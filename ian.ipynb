{
 "cells": [
  {
   "cell_type": "code",
   "execution_count": 29,
   "metadata": {},
   "outputs": [],
   "source": [
    "import torchhd\n",
    "import pandas as pd\n",
    "from ucimlrepo import fetch_ucirepo\n",
    "import torch\n",
    "from torch.utils.data import DataLoader, TensorDataset\n",
    "from typing import Iterable"
   ]
  },
  {
   "cell_type": "code",
   "execution_count": 30,
   "metadata": {},
   "outputs": [],
   "source": [
    "# fetch dataset\n",
    "adult = fetch_ucirepo(id=2)\n",
    "\n",
    "# data (as pandas dataframes)\n",
    "X = adult.data.features\n",
    "y = adult.data.targets "
   ]
  },
  {
   "cell_type": "code",
   "execution_count": 31,
   "metadata": {},
   "outputs": [
    {
     "data": {
      "application/vnd.microsoft.datawrangler.viewer.v0+json": {
       "columns": [
        {
         "name": "index",
         "rawType": "int64",
         "type": "integer"
        },
        {
         "name": "age",
         "rawType": "int64",
         "type": "integer"
        },
        {
         "name": "workclass",
         "rawType": "object",
         "type": "unknown"
        },
        {
         "name": "fnlwgt",
         "rawType": "int64",
         "type": "integer"
        },
        {
         "name": "education",
         "rawType": "object",
         "type": "string"
        },
        {
         "name": "education-num",
         "rawType": "int64",
         "type": "integer"
        },
        {
         "name": "marital-status",
         "rawType": "object",
         "type": "string"
        },
        {
         "name": "occupation",
         "rawType": "object",
         "type": "unknown"
        },
        {
         "name": "relationship",
         "rawType": "object",
         "type": "string"
        },
        {
         "name": "race",
         "rawType": "object",
         "type": "string"
        },
        {
         "name": "sex",
         "rawType": "object",
         "type": "string"
        },
        {
         "name": "capital-gain",
         "rawType": "int64",
         "type": "integer"
        },
        {
         "name": "capital-loss",
         "rawType": "int64",
         "type": "integer"
        },
        {
         "name": "hours-per-week",
         "rawType": "int64",
         "type": "integer"
        },
        {
         "name": "native-country",
         "rawType": "object",
         "type": "unknown"
        }
       ],
       "conversionMethod": "pd.DataFrame",
       "ref": "344485e7-748e-4d96-8847-6dc7d49bfa0a",
       "rows": [
        [
         "0",
         "39",
         "State-gov",
         "77516",
         "Bachelors",
         "13",
         "Never-married",
         "Adm-clerical",
         "Not-in-family",
         "White",
         "Male",
         "2174",
         "0",
         "40",
         "United-States"
        ],
        [
         "1",
         "50",
         "Self-emp-not-inc",
         "83311",
         "Bachelors",
         "13",
         "Married-civ-spouse",
         "Exec-managerial",
         "Husband",
         "White",
         "Male",
         "0",
         "0",
         "13",
         "United-States"
        ],
        [
         "2",
         "38",
         "Private",
         "215646",
         "HS-grad",
         "9",
         "Divorced",
         "Handlers-cleaners",
         "Not-in-family",
         "White",
         "Male",
         "0",
         "0",
         "40",
         "United-States"
        ],
        [
         "3",
         "53",
         "Private",
         "234721",
         "11th",
         "7",
         "Married-civ-spouse",
         "Handlers-cleaners",
         "Husband",
         "Black",
         "Male",
         "0",
         "0",
         "40",
         "United-States"
        ],
        [
         "4",
         "28",
         "Private",
         "338409",
         "Bachelors",
         "13",
         "Married-civ-spouse",
         "Prof-specialty",
         "Wife",
         "Black",
         "Female",
         "0",
         "0",
         "40",
         "Cuba"
        ],
        [
         "5",
         "37",
         "Private",
         "284582",
         "Masters",
         "14",
         "Married-civ-spouse",
         "Exec-managerial",
         "Wife",
         "White",
         "Female",
         "0",
         "0",
         "40",
         "United-States"
        ],
        [
         "6",
         "49",
         "Private",
         "160187",
         "9th",
         "5",
         "Married-spouse-absent",
         "Other-service",
         "Not-in-family",
         "Black",
         "Female",
         "0",
         "0",
         "16",
         "Jamaica"
        ],
        [
         "7",
         "52",
         "Self-emp-not-inc",
         "209642",
         "HS-grad",
         "9",
         "Married-civ-spouse",
         "Exec-managerial",
         "Husband",
         "White",
         "Male",
         "0",
         "0",
         "45",
         "United-States"
        ],
        [
         "8",
         "31",
         "Private",
         "45781",
         "Masters",
         "14",
         "Never-married",
         "Prof-specialty",
         "Not-in-family",
         "White",
         "Female",
         "14084",
         "0",
         "50",
         "United-States"
        ],
        [
         "9",
         "42",
         "Private",
         "159449",
         "Bachelors",
         "13",
         "Married-civ-spouse",
         "Exec-managerial",
         "Husband",
         "White",
         "Male",
         "5178",
         "0",
         "40",
         "United-States"
        ],
        [
         "10",
         "37",
         "Private",
         "280464",
         "Some-college",
         "10",
         "Married-civ-spouse",
         "Exec-managerial",
         "Husband",
         "Black",
         "Male",
         "0",
         "0",
         "80",
         "United-States"
        ],
        [
         "11",
         "30",
         "State-gov",
         "141297",
         "Bachelors",
         "13",
         "Married-civ-spouse",
         "Prof-specialty",
         "Husband",
         "Asian-Pac-Islander",
         "Male",
         "0",
         "0",
         "40",
         "India"
        ],
        [
         "12",
         "23",
         "Private",
         "122272",
         "Bachelors",
         "13",
         "Never-married",
         "Adm-clerical",
         "Own-child",
         "White",
         "Female",
         "0",
         "0",
         "30",
         "United-States"
        ],
        [
         "13",
         "32",
         "Private",
         "205019",
         "Assoc-acdm",
         "12",
         "Never-married",
         "Sales",
         "Not-in-family",
         "Black",
         "Male",
         "0",
         "0",
         "50",
         "United-States"
        ],
        [
         "14",
         "40",
         "Private",
         "121772",
         "Assoc-voc",
         "11",
         "Married-civ-spouse",
         "Craft-repair",
         "Husband",
         "Asian-Pac-Islander",
         "Male",
         "0",
         "0",
         "40",
         "?"
        ],
        [
         "15",
         "34",
         "Private",
         "245487",
         "7th-8th",
         "4",
         "Married-civ-spouse",
         "Transport-moving",
         "Husband",
         "Amer-Indian-Eskimo",
         "Male",
         "0",
         "0",
         "45",
         "Mexico"
        ],
        [
         "16",
         "25",
         "Self-emp-not-inc",
         "176756",
         "HS-grad",
         "9",
         "Never-married",
         "Farming-fishing",
         "Own-child",
         "White",
         "Male",
         "0",
         "0",
         "35",
         "United-States"
        ],
        [
         "17",
         "32",
         "Private",
         "186824",
         "HS-grad",
         "9",
         "Never-married",
         "Machine-op-inspct",
         "Unmarried",
         "White",
         "Male",
         "0",
         "0",
         "40",
         "United-States"
        ],
        [
         "18",
         "38",
         "Private",
         "28887",
         "11th",
         "7",
         "Married-civ-spouse",
         "Sales",
         "Husband",
         "White",
         "Male",
         "0",
         "0",
         "50",
         "United-States"
        ],
        [
         "19",
         "43",
         "Self-emp-not-inc",
         "292175",
         "Masters",
         "14",
         "Divorced",
         "Exec-managerial",
         "Unmarried",
         "White",
         "Female",
         "0",
         "0",
         "45",
         "United-States"
        ],
        [
         "20",
         "40",
         "Private",
         "193524",
         "Doctorate",
         "16",
         "Married-civ-spouse",
         "Prof-specialty",
         "Husband",
         "White",
         "Male",
         "0",
         "0",
         "60",
         "United-States"
        ],
        [
         "21",
         "54",
         "Private",
         "302146",
         "HS-grad",
         "9",
         "Separated",
         "Other-service",
         "Unmarried",
         "Black",
         "Female",
         "0",
         "0",
         "20",
         "United-States"
        ],
        [
         "22",
         "35",
         "Federal-gov",
         "76845",
         "9th",
         "5",
         "Married-civ-spouse",
         "Farming-fishing",
         "Husband",
         "Black",
         "Male",
         "0",
         "0",
         "40",
         "United-States"
        ],
        [
         "23",
         "43",
         "Private",
         "117037",
         "11th",
         "7",
         "Married-civ-spouse",
         "Transport-moving",
         "Husband",
         "White",
         "Male",
         "0",
         "2042",
         "40",
         "United-States"
        ],
        [
         "24",
         "59",
         "Private",
         "109015",
         "HS-grad",
         "9",
         "Divorced",
         "Tech-support",
         "Unmarried",
         "White",
         "Female",
         "0",
         "0",
         "40",
         "United-States"
        ],
        [
         "25",
         "56",
         "Local-gov",
         "216851",
         "Bachelors",
         "13",
         "Married-civ-spouse",
         "Tech-support",
         "Husband",
         "White",
         "Male",
         "0",
         "0",
         "40",
         "United-States"
        ],
        [
         "26",
         "19",
         "Private",
         "168294",
         "HS-grad",
         "9",
         "Never-married",
         "Craft-repair",
         "Own-child",
         "White",
         "Male",
         "0",
         "0",
         "40",
         "United-States"
        ],
        [
         "27",
         "54",
         "?",
         "180211",
         "Some-college",
         "10",
         "Married-civ-spouse",
         "?",
         "Husband",
         "Asian-Pac-Islander",
         "Male",
         "0",
         "0",
         "60",
         "South"
        ],
        [
         "28",
         "39",
         "Private",
         "367260",
         "HS-grad",
         "9",
         "Divorced",
         "Exec-managerial",
         "Not-in-family",
         "White",
         "Male",
         "0",
         "0",
         "80",
         "United-States"
        ],
        [
         "29",
         "49",
         "Private",
         "193366",
         "HS-grad",
         "9",
         "Married-civ-spouse",
         "Craft-repair",
         "Husband",
         "White",
         "Male",
         "0",
         "0",
         "40",
         "United-States"
        ],
        [
         "30",
         "23",
         "Local-gov",
         "190709",
         "Assoc-acdm",
         "12",
         "Never-married",
         "Protective-serv",
         "Not-in-family",
         "White",
         "Male",
         "0",
         "0",
         "52",
         "United-States"
        ],
        [
         "31",
         "20",
         "Private",
         "266015",
         "Some-college",
         "10",
         "Never-married",
         "Sales",
         "Own-child",
         "Black",
         "Male",
         "0",
         "0",
         "44",
         "United-States"
        ],
        [
         "32",
         "45",
         "Private",
         "386940",
         "Bachelors",
         "13",
         "Divorced",
         "Exec-managerial",
         "Own-child",
         "White",
         "Male",
         "0",
         "1408",
         "40",
         "United-States"
        ],
        [
         "33",
         "30",
         "Federal-gov",
         "59951",
         "Some-college",
         "10",
         "Married-civ-spouse",
         "Adm-clerical",
         "Own-child",
         "White",
         "Male",
         "0",
         "0",
         "40",
         "United-States"
        ],
        [
         "34",
         "22",
         "State-gov",
         "311512",
         "Some-college",
         "10",
         "Married-civ-spouse",
         "Other-service",
         "Husband",
         "Black",
         "Male",
         "0",
         "0",
         "15",
         "United-States"
        ],
        [
         "35",
         "48",
         "Private",
         "242406",
         "11th",
         "7",
         "Never-married",
         "Machine-op-inspct",
         "Unmarried",
         "White",
         "Male",
         "0",
         "0",
         "40",
         "Puerto-Rico"
        ],
        [
         "36",
         "21",
         "Private",
         "197200",
         "Some-college",
         "10",
         "Never-married",
         "Machine-op-inspct",
         "Own-child",
         "White",
         "Male",
         "0",
         "0",
         "40",
         "United-States"
        ],
        [
         "37",
         "19",
         "Private",
         "544091",
         "HS-grad",
         "9",
         "Married-AF-spouse",
         "Adm-clerical",
         "Wife",
         "White",
         "Female",
         "0",
         "0",
         "25",
         "United-States"
        ],
        [
         "38",
         "31",
         "Private",
         "84154",
         "Some-college",
         "10",
         "Married-civ-spouse",
         "Sales",
         "Husband",
         "White",
         "Male",
         "0",
         "0",
         "38",
         "?"
        ],
        [
         "39",
         "48",
         "Self-emp-not-inc",
         "265477",
         "Assoc-acdm",
         "12",
         "Married-civ-spouse",
         "Prof-specialty",
         "Husband",
         "White",
         "Male",
         "0",
         "0",
         "40",
         "United-States"
        ],
        [
         "40",
         "31",
         "Private",
         "507875",
         "9th",
         "5",
         "Married-civ-spouse",
         "Machine-op-inspct",
         "Husband",
         "White",
         "Male",
         "0",
         "0",
         "43",
         "United-States"
        ],
        [
         "41",
         "53",
         "Self-emp-not-inc",
         "88506",
         "Bachelors",
         "13",
         "Married-civ-spouse",
         "Prof-specialty",
         "Husband",
         "White",
         "Male",
         "0",
         "0",
         "40",
         "United-States"
        ],
        [
         "42",
         "24",
         "Private",
         "172987",
         "Bachelors",
         "13",
         "Married-civ-spouse",
         "Tech-support",
         "Husband",
         "White",
         "Male",
         "0",
         "0",
         "50",
         "United-States"
        ],
        [
         "43",
         "49",
         "Private",
         "94638",
         "HS-grad",
         "9",
         "Separated",
         "Adm-clerical",
         "Unmarried",
         "White",
         "Female",
         "0",
         "0",
         "40",
         "United-States"
        ],
        [
         "44",
         "25",
         "Private",
         "289980",
         "HS-grad",
         "9",
         "Never-married",
         "Handlers-cleaners",
         "Not-in-family",
         "White",
         "Male",
         "0",
         "0",
         "35",
         "United-States"
        ],
        [
         "45",
         "57",
         "Federal-gov",
         "337895",
         "Bachelors",
         "13",
         "Married-civ-spouse",
         "Prof-specialty",
         "Husband",
         "Black",
         "Male",
         "0",
         "0",
         "40",
         "United-States"
        ],
        [
         "46",
         "53",
         "Private",
         "144361",
         "HS-grad",
         "9",
         "Married-civ-spouse",
         "Machine-op-inspct",
         "Husband",
         "White",
         "Male",
         "0",
         "0",
         "38",
         "United-States"
        ],
        [
         "47",
         "44",
         "Private",
         "128354",
         "Masters",
         "14",
         "Divorced",
         "Exec-managerial",
         "Unmarried",
         "White",
         "Female",
         "0",
         "0",
         "40",
         "United-States"
        ],
        [
         "48",
         "41",
         "State-gov",
         "101603",
         "Assoc-voc",
         "11",
         "Married-civ-spouse",
         "Craft-repair",
         "Husband",
         "White",
         "Male",
         "0",
         "0",
         "40",
         "United-States"
        ],
        [
         "49",
         "29",
         "Private",
         "271466",
         "Assoc-voc",
         "11",
         "Never-married",
         "Prof-specialty",
         "Not-in-family",
         "White",
         "Male",
         "0",
         "0",
         "43",
         "United-States"
        ]
       ],
       "shape": {
        "columns": 14,
        "rows": 48842
       }
      },
      "text/html": [
       "<div>\n",
       "<style scoped>\n",
       "    .dataframe tbody tr th:only-of-type {\n",
       "        vertical-align: middle;\n",
       "    }\n",
       "\n",
       "    .dataframe tbody tr th {\n",
       "        vertical-align: top;\n",
       "    }\n",
       "\n",
       "    .dataframe thead th {\n",
       "        text-align: right;\n",
       "    }\n",
       "</style>\n",
       "<table border=\"1\" class=\"dataframe\">\n",
       "  <thead>\n",
       "    <tr style=\"text-align: right;\">\n",
       "      <th></th>\n",
       "      <th>age</th>\n",
       "      <th>workclass</th>\n",
       "      <th>fnlwgt</th>\n",
       "      <th>education</th>\n",
       "      <th>education-num</th>\n",
       "      <th>marital-status</th>\n",
       "      <th>occupation</th>\n",
       "      <th>relationship</th>\n",
       "      <th>race</th>\n",
       "      <th>sex</th>\n",
       "      <th>capital-gain</th>\n",
       "      <th>capital-loss</th>\n",
       "      <th>hours-per-week</th>\n",
       "      <th>native-country</th>\n",
       "    </tr>\n",
       "  </thead>\n",
       "  <tbody>\n",
       "    <tr>\n",
       "      <th>0</th>\n",
       "      <td>39</td>\n",
       "      <td>State-gov</td>\n",
       "      <td>77516</td>\n",
       "      <td>Bachelors</td>\n",
       "      <td>13</td>\n",
       "      <td>Never-married</td>\n",
       "      <td>Adm-clerical</td>\n",
       "      <td>Not-in-family</td>\n",
       "      <td>White</td>\n",
       "      <td>Male</td>\n",
       "      <td>2174</td>\n",
       "      <td>0</td>\n",
       "      <td>40</td>\n",
       "      <td>United-States</td>\n",
       "    </tr>\n",
       "    <tr>\n",
       "      <th>1</th>\n",
       "      <td>50</td>\n",
       "      <td>Self-emp-not-inc</td>\n",
       "      <td>83311</td>\n",
       "      <td>Bachelors</td>\n",
       "      <td>13</td>\n",
       "      <td>Married-civ-spouse</td>\n",
       "      <td>Exec-managerial</td>\n",
       "      <td>Husband</td>\n",
       "      <td>White</td>\n",
       "      <td>Male</td>\n",
       "      <td>0</td>\n",
       "      <td>0</td>\n",
       "      <td>13</td>\n",
       "      <td>United-States</td>\n",
       "    </tr>\n",
       "    <tr>\n",
       "      <th>2</th>\n",
       "      <td>38</td>\n",
       "      <td>Private</td>\n",
       "      <td>215646</td>\n",
       "      <td>HS-grad</td>\n",
       "      <td>9</td>\n",
       "      <td>Divorced</td>\n",
       "      <td>Handlers-cleaners</td>\n",
       "      <td>Not-in-family</td>\n",
       "      <td>White</td>\n",
       "      <td>Male</td>\n",
       "      <td>0</td>\n",
       "      <td>0</td>\n",
       "      <td>40</td>\n",
       "      <td>United-States</td>\n",
       "    </tr>\n",
       "    <tr>\n",
       "      <th>3</th>\n",
       "      <td>53</td>\n",
       "      <td>Private</td>\n",
       "      <td>234721</td>\n",
       "      <td>11th</td>\n",
       "      <td>7</td>\n",
       "      <td>Married-civ-spouse</td>\n",
       "      <td>Handlers-cleaners</td>\n",
       "      <td>Husband</td>\n",
       "      <td>Black</td>\n",
       "      <td>Male</td>\n",
       "      <td>0</td>\n",
       "      <td>0</td>\n",
       "      <td>40</td>\n",
       "      <td>United-States</td>\n",
       "    </tr>\n",
       "    <tr>\n",
       "      <th>4</th>\n",
       "      <td>28</td>\n",
       "      <td>Private</td>\n",
       "      <td>338409</td>\n",
       "      <td>Bachelors</td>\n",
       "      <td>13</td>\n",
       "      <td>Married-civ-spouse</td>\n",
       "      <td>Prof-specialty</td>\n",
       "      <td>Wife</td>\n",
       "      <td>Black</td>\n",
       "      <td>Female</td>\n",
       "      <td>0</td>\n",
       "      <td>0</td>\n",
       "      <td>40</td>\n",
       "      <td>Cuba</td>\n",
       "    </tr>\n",
       "    <tr>\n",
       "      <th>...</th>\n",
       "      <td>...</td>\n",
       "      <td>...</td>\n",
       "      <td>...</td>\n",
       "      <td>...</td>\n",
       "      <td>...</td>\n",
       "      <td>...</td>\n",
       "      <td>...</td>\n",
       "      <td>...</td>\n",
       "      <td>...</td>\n",
       "      <td>...</td>\n",
       "      <td>...</td>\n",
       "      <td>...</td>\n",
       "      <td>...</td>\n",
       "      <td>...</td>\n",
       "    </tr>\n",
       "    <tr>\n",
       "      <th>48837</th>\n",
       "      <td>39</td>\n",
       "      <td>Private</td>\n",
       "      <td>215419</td>\n",
       "      <td>Bachelors</td>\n",
       "      <td>13</td>\n",
       "      <td>Divorced</td>\n",
       "      <td>Prof-specialty</td>\n",
       "      <td>Not-in-family</td>\n",
       "      <td>White</td>\n",
       "      <td>Female</td>\n",
       "      <td>0</td>\n",
       "      <td>0</td>\n",
       "      <td>36</td>\n",
       "      <td>United-States</td>\n",
       "    </tr>\n",
       "    <tr>\n",
       "      <th>48838</th>\n",
       "      <td>64</td>\n",
       "      <td>NaN</td>\n",
       "      <td>321403</td>\n",
       "      <td>HS-grad</td>\n",
       "      <td>9</td>\n",
       "      <td>Widowed</td>\n",
       "      <td>NaN</td>\n",
       "      <td>Other-relative</td>\n",
       "      <td>Black</td>\n",
       "      <td>Male</td>\n",
       "      <td>0</td>\n",
       "      <td>0</td>\n",
       "      <td>40</td>\n",
       "      <td>United-States</td>\n",
       "    </tr>\n",
       "    <tr>\n",
       "      <th>48839</th>\n",
       "      <td>38</td>\n",
       "      <td>Private</td>\n",
       "      <td>374983</td>\n",
       "      <td>Bachelors</td>\n",
       "      <td>13</td>\n",
       "      <td>Married-civ-spouse</td>\n",
       "      <td>Prof-specialty</td>\n",
       "      <td>Husband</td>\n",
       "      <td>White</td>\n",
       "      <td>Male</td>\n",
       "      <td>0</td>\n",
       "      <td>0</td>\n",
       "      <td>50</td>\n",
       "      <td>United-States</td>\n",
       "    </tr>\n",
       "    <tr>\n",
       "      <th>48840</th>\n",
       "      <td>44</td>\n",
       "      <td>Private</td>\n",
       "      <td>83891</td>\n",
       "      <td>Bachelors</td>\n",
       "      <td>13</td>\n",
       "      <td>Divorced</td>\n",
       "      <td>Adm-clerical</td>\n",
       "      <td>Own-child</td>\n",
       "      <td>Asian-Pac-Islander</td>\n",
       "      <td>Male</td>\n",
       "      <td>5455</td>\n",
       "      <td>0</td>\n",
       "      <td>40</td>\n",
       "      <td>United-States</td>\n",
       "    </tr>\n",
       "    <tr>\n",
       "      <th>48841</th>\n",
       "      <td>35</td>\n",
       "      <td>Self-emp-inc</td>\n",
       "      <td>182148</td>\n",
       "      <td>Bachelors</td>\n",
       "      <td>13</td>\n",
       "      <td>Married-civ-spouse</td>\n",
       "      <td>Exec-managerial</td>\n",
       "      <td>Husband</td>\n",
       "      <td>White</td>\n",
       "      <td>Male</td>\n",
       "      <td>0</td>\n",
       "      <td>0</td>\n",
       "      <td>60</td>\n",
       "      <td>United-States</td>\n",
       "    </tr>\n",
       "  </tbody>\n",
       "</table>\n",
       "<p>48842 rows × 14 columns</p>\n",
       "</div>"
      ],
      "text/plain": [
       "       age         workclass  fnlwgt  education  education-num  \\\n",
       "0       39         State-gov   77516  Bachelors             13   \n",
       "1       50  Self-emp-not-inc   83311  Bachelors             13   \n",
       "2       38           Private  215646    HS-grad              9   \n",
       "3       53           Private  234721       11th              7   \n",
       "4       28           Private  338409  Bachelors             13   \n",
       "...    ...               ...     ...        ...            ...   \n",
       "48837   39           Private  215419  Bachelors             13   \n",
       "48838   64               NaN  321403    HS-grad              9   \n",
       "48839   38           Private  374983  Bachelors             13   \n",
       "48840   44           Private   83891  Bachelors             13   \n",
       "48841   35      Self-emp-inc  182148  Bachelors             13   \n",
       "\n",
       "           marital-status         occupation    relationship  \\\n",
       "0           Never-married       Adm-clerical   Not-in-family   \n",
       "1      Married-civ-spouse    Exec-managerial         Husband   \n",
       "2                Divorced  Handlers-cleaners   Not-in-family   \n",
       "3      Married-civ-spouse  Handlers-cleaners         Husband   \n",
       "4      Married-civ-spouse     Prof-specialty            Wife   \n",
       "...                   ...                ...             ...   \n",
       "48837            Divorced     Prof-specialty   Not-in-family   \n",
       "48838             Widowed                NaN  Other-relative   \n",
       "48839  Married-civ-spouse     Prof-specialty         Husband   \n",
       "48840            Divorced       Adm-clerical       Own-child   \n",
       "48841  Married-civ-spouse    Exec-managerial         Husband   \n",
       "\n",
       "                     race     sex  capital-gain  capital-loss  hours-per-week  \\\n",
       "0                   White    Male          2174             0              40   \n",
       "1                   White    Male             0             0              13   \n",
       "2                   White    Male             0             0              40   \n",
       "3                   Black    Male             0             0              40   \n",
       "4                   Black  Female             0             0              40   \n",
       "...                   ...     ...           ...           ...             ...   \n",
       "48837               White  Female             0             0              36   \n",
       "48838               Black    Male             0             0              40   \n",
       "48839               White    Male             0             0              50   \n",
       "48840  Asian-Pac-Islander    Male          5455             0              40   \n",
       "48841               White    Male             0             0              60   \n",
       "\n",
       "      native-country  \n",
       "0      United-States  \n",
       "1      United-States  \n",
       "2      United-States  \n",
       "3      United-States  \n",
       "4               Cuba  \n",
       "...              ...  \n",
       "48837  United-States  \n",
       "48838  United-States  \n",
       "48839  United-States  \n",
       "48840  United-States  \n",
       "48841  United-States  \n",
       "\n",
       "[48842 rows x 14 columns]"
      ]
     },
     "execution_count": 31,
     "metadata": {},
     "output_type": "execute_result"
    }
   ],
   "source": [
    "X"
   ]
  },
  {
   "cell_type": "code",
   "execution_count": 32,
   "metadata": {},
   "outputs": [
    {
     "data": {
      "application/vnd.microsoft.datawrangler.viewer.v0+json": {
       "columns": [
        {
         "name": "index",
         "rawType": "int64",
         "type": "integer"
        },
        {
         "name": "income",
         "rawType": "object",
         "type": "string"
        }
       ],
       "conversionMethod": "pd.DataFrame",
       "ref": "53a6c59e-35b4-43e6-a978-ca5e65334f69",
       "rows": [
        [
         "0",
         "<=50K"
        ],
        [
         "1",
         "<=50K"
        ],
        [
         "2",
         "<=50K"
        ],
        [
         "3",
         "<=50K"
        ],
        [
         "4",
         "<=50K"
        ],
        [
         "5",
         "<=50K"
        ],
        [
         "6",
         "<=50K"
        ],
        [
         "7",
         ">50K"
        ],
        [
         "8",
         ">50K"
        ],
        [
         "9",
         ">50K"
        ],
        [
         "10",
         ">50K"
        ],
        [
         "11",
         ">50K"
        ],
        [
         "12",
         "<=50K"
        ],
        [
         "13",
         "<=50K"
        ],
        [
         "14",
         ">50K"
        ],
        [
         "15",
         "<=50K"
        ],
        [
         "16",
         "<=50K"
        ],
        [
         "17",
         "<=50K"
        ],
        [
         "18",
         "<=50K"
        ],
        [
         "19",
         ">50K"
        ],
        [
         "20",
         ">50K"
        ],
        [
         "21",
         "<=50K"
        ],
        [
         "22",
         "<=50K"
        ],
        [
         "23",
         "<=50K"
        ],
        [
         "24",
         "<=50K"
        ],
        [
         "25",
         ">50K"
        ],
        [
         "26",
         "<=50K"
        ],
        [
         "27",
         ">50K"
        ],
        [
         "28",
         "<=50K"
        ],
        [
         "29",
         "<=50K"
        ],
        [
         "30",
         "<=50K"
        ],
        [
         "31",
         "<=50K"
        ],
        [
         "32",
         "<=50K"
        ],
        [
         "33",
         "<=50K"
        ],
        [
         "34",
         "<=50K"
        ],
        [
         "35",
         "<=50K"
        ],
        [
         "36",
         "<=50K"
        ],
        [
         "37",
         "<=50K"
        ],
        [
         "38",
         ">50K"
        ],
        [
         "39",
         "<=50K"
        ],
        [
         "40",
         "<=50K"
        ],
        [
         "41",
         "<=50K"
        ],
        [
         "42",
         "<=50K"
        ],
        [
         "43",
         "<=50K"
        ],
        [
         "44",
         "<=50K"
        ],
        [
         "45",
         ">50K"
        ],
        [
         "46",
         "<=50K"
        ],
        [
         "47",
         "<=50K"
        ],
        [
         "48",
         "<=50K"
        ],
        [
         "49",
         "<=50K"
        ]
       ],
       "shape": {
        "columns": 1,
        "rows": 48842
       }
      },
      "text/html": [
       "<div>\n",
       "<style scoped>\n",
       "    .dataframe tbody tr th:only-of-type {\n",
       "        vertical-align: middle;\n",
       "    }\n",
       "\n",
       "    .dataframe tbody tr th {\n",
       "        vertical-align: top;\n",
       "    }\n",
       "\n",
       "    .dataframe thead th {\n",
       "        text-align: right;\n",
       "    }\n",
       "</style>\n",
       "<table border=\"1\" class=\"dataframe\">\n",
       "  <thead>\n",
       "    <tr style=\"text-align: right;\">\n",
       "      <th></th>\n",
       "      <th>income</th>\n",
       "    </tr>\n",
       "  </thead>\n",
       "  <tbody>\n",
       "    <tr>\n",
       "      <th>0</th>\n",
       "      <td>&lt;=50K</td>\n",
       "    </tr>\n",
       "    <tr>\n",
       "      <th>1</th>\n",
       "      <td>&lt;=50K</td>\n",
       "    </tr>\n",
       "    <tr>\n",
       "      <th>2</th>\n",
       "      <td>&lt;=50K</td>\n",
       "    </tr>\n",
       "    <tr>\n",
       "      <th>3</th>\n",
       "      <td>&lt;=50K</td>\n",
       "    </tr>\n",
       "    <tr>\n",
       "      <th>4</th>\n",
       "      <td>&lt;=50K</td>\n",
       "    </tr>\n",
       "    <tr>\n",
       "      <th>...</th>\n",
       "      <td>...</td>\n",
       "    </tr>\n",
       "    <tr>\n",
       "      <th>48837</th>\n",
       "      <td>&lt;=50K.</td>\n",
       "    </tr>\n",
       "    <tr>\n",
       "      <th>48838</th>\n",
       "      <td>&lt;=50K.</td>\n",
       "    </tr>\n",
       "    <tr>\n",
       "      <th>48839</th>\n",
       "      <td>&lt;=50K.</td>\n",
       "    </tr>\n",
       "    <tr>\n",
       "      <th>48840</th>\n",
       "      <td>&lt;=50K.</td>\n",
       "    </tr>\n",
       "    <tr>\n",
       "      <th>48841</th>\n",
       "      <td>&gt;50K.</td>\n",
       "    </tr>\n",
       "  </tbody>\n",
       "</table>\n",
       "<p>48842 rows × 1 columns</p>\n",
       "</div>"
      ],
      "text/plain": [
       "       income\n",
       "0       <=50K\n",
       "1       <=50K\n",
       "2       <=50K\n",
       "3       <=50K\n",
       "4       <=50K\n",
       "...       ...\n",
       "48837  <=50K.\n",
       "48838  <=50K.\n",
       "48839  <=50K.\n",
       "48840  <=50K.\n",
       "48841   >50K.\n",
       "\n",
       "[48842 rows x 1 columns]"
      ]
     },
     "execution_count": 32,
     "metadata": {},
     "output_type": "execute_result"
    }
   ],
   "source": [
    "y"
   ]
  },
  {
   "cell_type": "markdown",
   "metadata": {},
   "source": [
    "### Metadata"
   ]
  },
  {
   "cell_type": "code",
   "execution_count": 33,
   "metadata": {},
   "outputs": [
    {
     "name": "stdout",
     "output_type": "stream",
     "text": [
      "{'uci_id': 2, 'name': 'Adult', 'repository_url': 'https://archive.ics.uci.edu/dataset/2/adult', 'data_url': 'https://archive.ics.uci.edu/static/public/2/data.csv', 'abstract': 'Predict whether annual income of an individual exceeds $50K/yr based on census data. Also known as \"Census Income\" dataset. ', 'area': 'Social Science', 'tasks': ['Classification'], 'characteristics': ['Multivariate'], 'num_instances': 48842, 'num_features': 14, 'feature_types': ['Categorical', 'Integer'], 'demographics': ['Age', 'Income', 'Education Level', 'Other', 'Race', 'Sex'], 'target_col': ['income'], 'index_col': None, 'has_missing_values': 'yes', 'missing_values_symbol': 'NaN', 'year_of_dataset_creation': 1996, 'last_updated': 'Tue Sep 24 2024', 'dataset_doi': '10.24432/C5XW20', 'creators': ['Barry Becker', 'Ronny Kohavi'], 'intro_paper': None, 'additional_info': {'summary': \"Extraction was done by Barry Becker from the 1994 Census database.  A set of reasonably clean records was extracted using the following conditions: ((AAGE>16) && (AGI>100) && (AFNLWGT>1)&& (HRSWK>0))\\n\\nPrediction task is to determine whether a person's income is over $50,000 a year.\\n\", 'purpose': None, 'funded_by': None, 'instances_represent': None, 'recommended_data_splits': None, 'sensitive_data': None, 'preprocessing_description': None, 'variable_info': 'Listing of attributes:\\r\\n\\r\\n>50K, <=50K.\\r\\n\\r\\nage: continuous.\\r\\nworkclass: Private, Self-emp-not-inc, Self-emp-inc, Federal-gov, Local-gov, State-gov, Without-pay, Never-worked.\\r\\nfnlwgt: continuous.\\r\\neducation: Bachelors, Some-college, 11th, HS-grad, Prof-school, Assoc-acdm, Assoc-voc, 9th, 7th-8th, 12th, Masters, 1st-4th, 10th, Doctorate, 5th-6th, Preschool.\\r\\neducation-num: continuous.\\r\\nmarital-status: Married-civ-spouse, Divorced, Never-married, Separated, Widowed, Married-spouse-absent, Married-AF-spouse.\\r\\noccupation: Tech-support, Craft-repair, Other-service, Sales, Exec-managerial, Prof-specialty, Handlers-cleaners, Machine-op-inspct, Adm-clerical, Farming-fishing, Transport-moving, Priv-house-serv, Protective-serv, Armed-Forces.\\r\\nrelationship: Wife, Own-child, Husband, Not-in-family, Other-relative, Unmarried.\\r\\nrace: White, Asian-Pac-Islander, Amer-Indian-Eskimo, Other, Black.\\r\\nsex: Female, Male.\\r\\ncapital-gain: continuous.\\r\\ncapital-loss: continuous.\\r\\nhours-per-week: continuous.\\r\\nnative-country: United-States, Cambodia, England, Puerto-Rico, Canada, Germany, Outlying-US(Guam-USVI-etc), India, Japan, Greece, South, China, Cuba, Iran, Honduras, Philippines, Italy, Poland, Jamaica, Vietnam, Mexico, Portugal, Ireland, France, Dominican-Republic, Laos, Ecuador, Taiwan, Haiti, Columbia, Hungary, Guatemala, Nicaragua, Scotland, Thailand, Yugoslavia, El-Salvador, Trinadad&Tobago, Peru, Hong, Holand-Netherlands.', 'citation': None}}\n",
      "Index(['age', 'workclass', 'fnlwgt', 'education', 'education-num',\n",
      "       'marital-status', 'occupation', 'relationship', 'race', 'sex',\n",
      "       'capital-gain', 'capital-loss', 'hours-per-week', 'native-country'],\n",
      "      dtype='object')\n"
     ]
    }
   ],
   "source": [
    "# metadata\n",
    "print(adult.metadata)\n",
    "feature_names = X.columns\n",
    "print(feature_names)"
   ]
  },
  {
   "cell_type": "markdown",
   "metadata": {},
   "source": [
    "### Get numerical and categorical columns"
   ]
  },
  {
   "cell_type": "code",
   "execution_count": 51,
   "metadata": {},
   "outputs": [
    {
     "data": {
      "text/plain": [
       "(['age',\n",
       "  'fnlwgt',\n",
       "  'education-num',\n",
       "  'capital-gain',\n",
       "  'capital-loss',\n",
       "  'hours-per-week'],\n",
       " ['native-country',\n",
       "  'marital-status',\n",
       "  'race',\n",
       "  'occupation',\n",
       "  'relationship',\n",
       "  'workclass',\n",
       "  'education',\n",
       "  'sex'])"
      ]
     },
     "execution_count": 51,
     "metadata": {},
     "output_type": "execute_result"
    }
   ],
   "source": [
    "numerical = list(X.select_dtypes(include='number').columns)\n",
    "categorial = list(set(X.columns[1:])-set(numerical))\n",
    "numerical, categorial"
   ]
  },
  {
   "cell_type": "markdown",
   "metadata": {},
   "source": [
    "### Convert categorical columns to categorical"
   ]
  },
  {
   "cell_type": "code",
   "execution_count": 35,
   "metadata": {},
   "outputs": [
    {
     "name": "stdout",
     "output_type": "stream",
     "text": [
      "native-country\n",
      "marital-status\n",
      "race\n",
      "occupation\n",
      "relationship\n",
      "workclass\n",
      "education\n",
      "sex\n"
     ]
    },
    {
     "name": "stderr",
     "output_type": "stream",
     "text": [
      "/var/folders/t6/vz8d554s7x93_ptfs7fglwr80000gs/T/ipykernel_60017/2749402504.py:3: SettingWithCopyWarning: \n",
      "A value is trying to be set on a copy of a slice from a DataFrame.\n",
      "Try using .loc[row_indexer,col_indexer] = value instead\n",
      "\n",
      "See the caveats in the documentation: https://pandas.pydata.org/pandas-docs/stable/user_guide/indexing.html#returning-a-view-versus-a-copy\n",
      "  X[column]= X[column].astype('category')\n",
      "/var/folders/t6/vz8d554s7x93_ptfs7fglwr80000gs/T/ipykernel_60017/2749402504.py:3: SettingWithCopyWarning: \n",
      "A value is trying to be set on a copy of a slice from a DataFrame.\n",
      "Try using .loc[row_indexer,col_indexer] = value instead\n",
      "\n",
      "See the caveats in the documentation: https://pandas.pydata.org/pandas-docs/stable/user_guide/indexing.html#returning-a-view-versus-a-copy\n",
      "  X[column]= X[column].astype('category')\n",
      "/var/folders/t6/vz8d554s7x93_ptfs7fglwr80000gs/T/ipykernel_60017/2749402504.py:3: SettingWithCopyWarning: \n",
      "A value is trying to be set on a copy of a slice from a DataFrame.\n",
      "Try using .loc[row_indexer,col_indexer] = value instead\n",
      "\n",
      "See the caveats in the documentation: https://pandas.pydata.org/pandas-docs/stable/user_guide/indexing.html#returning-a-view-versus-a-copy\n",
      "  X[column]= X[column].astype('category')\n",
      "/var/folders/t6/vz8d554s7x93_ptfs7fglwr80000gs/T/ipykernel_60017/2749402504.py:3: SettingWithCopyWarning: \n",
      "A value is trying to be set on a copy of a slice from a DataFrame.\n",
      "Try using .loc[row_indexer,col_indexer] = value instead\n",
      "\n",
      "See the caveats in the documentation: https://pandas.pydata.org/pandas-docs/stable/user_guide/indexing.html#returning-a-view-versus-a-copy\n",
      "  X[column]= X[column].astype('category')\n",
      "/var/folders/t6/vz8d554s7x93_ptfs7fglwr80000gs/T/ipykernel_60017/2749402504.py:3: SettingWithCopyWarning: \n",
      "A value is trying to be set on a copy of a slice from a DataFrame.\n",
      "Try using .loc[row_indexer,col_indexer] = value instead\n",
      "\n",
      "See the caveats in the documentation: https://pandas.pydata.org/pandas-docs/stable/user_guide/indexing.html#returning-a-view-versus-a-copy\n",
      "  X[column]= X[column].astype('category')\n",
      "/var/folders/t6/vz8d554s7x93_ptfs7fglwr80000gs/T/ipykernel_60017/2749402504.py:3: SettingWithCopyWarning: \n",
      "A value is trying to be set on a copy of a slice from a DataFrame.\n",
      "Try using .loc[row_indexer,col_indexer] = value instead\n",
      "\n",
      "See the caveats in the documentation: https://pandas.pydata.org/pandas-docs/stable/user_guide/indexing.html#returning-a-view-versus-a-copy\n",
      "  X[column]= X[column].astype('category')\n",
      "/var/folders/t6/vz8d554s7x93_ptfs7fglwr80000gs/T/ipykernel_60017/2749402504.py:3: SettingWithCopyWarning: \n",
      "A value is trying to be set on a copy of a slice from a DataFrame.\n",
      "Try using .loc[row_indexer,col_indexer] = value instead\n",
      "\n",
      "See the caveats in the documentation: https://pandas.pydata.org/pandas-docs/stable/user_guide/indexing.html#returning-a-view-versus-a-copy\n",
      "  X[column]= X[column].astype('category')\n",
      "/var/folders/t6/vz8d554s7x93_ptfs7fglwr80000gs/T/ipykernel_60017/2749402504.py:3: SettingWithCopyWarning: \n",
      "A value is trying to be set on a copy of a slice from a DataFrame.\n",
      "Try using .loc[row_indexer,col_indexer] = value instead\n",
      "\n",
      "See the caveats in the documentation: https://pandas.pydata.org/pandas-docs/stable/user_guide/indexing.html#returning-a-view-versus-a-copy\n",
      "  X[column]= X[column].astype('category')\n"
     ]
    }
   ],
   "source": [
    "for column in categorial:\n",
    "    print(column)\n",
    "    X[column]= X[column].astype('category')"
   ]
  },
  {
   "cell_type": "code",
   "execution_count": 36,
   "metadata": {},
   "outputs": [
    {
     "data": {
      "application/vnd.microsoft.datawrangler.viewer.v0+json": {
       "columns": [
        {
         "name": "index",
         "rawType": "object",
         "type": "string"
        },
        {
         "name": "workclass",
         "rawType": "object",
         "type": "unknown"
        },
        {
         "name": "education",
         "rawType": "object",
         "type": "unknown"
        },
        {
         "name": "marital-status",
         "rawType": "object",
         "type": "unknown"
        },
        {
         "name": "occupation",
         "rawType": "object",
         "type": "unknown"
        },
        {
         "name": "relationship",
         "rawType": "object",
         "type": "unknown"
        },
        {
         "name": "race",
         "rawType": "object",
         "type": "unknown"
        },
        {
         "name": "sex",
         "rawType": "object",
         "type": "unknown"
        },
        {
         "name": "native-country",
         "rawType": "object",
         "type": "unknown"
        }
       ],
       "conversionMethod": "pd.DataFrame",
       "ref": "04be8cfd-8219-4a33-8661-88ab384e135b",
       "rows": [
        [
         "count",
         "47879",
         "48842",
         "48842",
         "47876",
         "48842",
         "48842",
         "48842",
         "48568"
        ],
        [
         "unique",
         "9",
         "16",
         "7",
         "15",
         "6",
         "5",
         "2",
         "42"
        ],
        [
         "top",
         "Private",
         "HS-grad",
         "Married-civ-spouse",
         "Prof-specialty",
         "Husband",
         "White",
         "Male",
         "United-States"
        ],
        [
         "freq",
         "33906",
         "15784",
         "22379",
         "6172",
         "19716",
         "41762",
         "32650",
         "43832"
        ]
       ],
       "shape": {
        "columns": 8,
        "rows": 4
       }
      },
      "text/html": [
       "<div>\n",
       "<style scoped>\n",
       "    .dataframe tbody tr th:only-of-type {\n",
       "        vertical-align: middle;\n",
       "    }\n",
       "\n",
       "    .dataframe tbody tr th {\n",
       "        vertical-align: top;\n",
       "    }\n",
       "\n",
       "    .dataframe thead th {\n",
       "        text-align: right;\n",
       "    }\n",
       "</style>\n",
       "<table border=\"1\" class=\"dataframe\">\n",
       "  <thead>\n",
       "    <tr style=\"text-align: right;\">\n",
       "      <th></th>\n",
       "      <th>workclass</th>\n",
       "      <th>education</th>\n",
       "      <th>marital-status</th>\n",
       "      <th>occupation</th>\n",
       "      <th>relationship</th>\n",
       "      <th>race</th>\n",
       "      <th>sex</th>\n",
       "      <th>native-country</th>\n",
       "    </tr>\n",
       "  </thead>\n",
       "  <tbody>\n",
       "    <tr>\n",
       "      <th>count</th>\n",
       "      <td>47879</td>\n",
       "      <td>48842</td>\n",
       "      <td>48842</td>\n",
       "      <td>47876</td>\n",
       "      <td>48842</td>\n",
       "      <td>48842</td>\n",
       "      <td>48842</td>\n",
       "      <td>48568</td>\n",
       "    </tr>\n",
       "    <tr>\n",
       "      <th>unique</th>\n",
       "      <td>9</td>\n",
       "      <td>16</td>\n",
       "      <td>7</td>\n",
       "      <td>15</td>\n",
       "      <td>6</td>\n",
       "      <td>5</td>\n",
       "      <td>2</td>\n",
       "      <td>42</td>\n",
       "    </tr>\n",
       "    <tr>\n",
       "      <th>top</th>\n",
       "      <td>Private</td>\n",
       "      <td>HS-grad</td>\n",
       "      <td>Married-civ-spouse</td>\n",
       "      <td>Prof-specialty</td>\n",
       "      <td>Husband</td>\n",
       "      <td>White</td>\n",
       "      <td>Male</td>\n",
       "      <td>United-States</td>\n",
       "    </tr>\n",
       "    <tr>\n",
       "      <th>freq</th>\n",
       "      <td>33906</td>\n",
       "      <td>15784</td>\n",
       "      <td>22379</td>\n",
       "      <td>6172</td>\n",
       "      <td>19716</td>\n",
       "      <td>41762</td>\n",
       "      <td>32650</td>\n",
       "      <td>43832</td>\n",
       "    </tr>\n",
       "  </tbody>\n",
       "</table>\n",
       "</div>"
      ],
      "text/plain": [
       "       workclass education      marital-status      occupation relationship  \\\n",
       "count      47879     48842               48842           47876        48842   \n",
       "unique         9        16                   7              15            6   \n",
       "top      Private   HS-grad  Married-civ-spouse  Prof-specialty      Husband   \n",
       "freq       33906     15784               22379            6172        19716   \n",
       "\n",
       "         race    sex native-country  \n",
       "count   48842  48842          48568  \n",
       "unique      5      2             42  \n",
       "top     White   Male  United-States  \n",
       "freq    41762  32650          43832  "
      ]
     },
     "execution_count": 36,
     "metadata": {},
     "output_type": "execute_result"
    }
   ],
   "source": [
    "X.select_dtypes(include='category').describe()"
   ]
  },
  {
   "cell_type": "code",
   "execution_count": 37,
   "metadata": {},
   "outputs": [
    {
     "data": {
      "application/vnd.microsoft.datawrangler.viewer.v0+json": {
       "columns": [
        {
         "name": "index",
         "rawType": "object",
         "type": "string"
        },
        {
         "name": "age",
         "rawType": "float64",
         "type": "float"
        },
        {
         "name": "fnlwgt",
         "rawType": "float64",
         "type": "float"
        },
        {
         "name": "education-num",
         "rawType": "float64",
         "type": "float"
        },
        {
         "name": "capital-gain",
         "rawType": "float64",
         "type": "float"
        },
        {
         "name": "capital-loss",
         "rawType": "float64",
         "type": "float"
        },
        {
         "name": "hours-per-week",
         "rawType": "float64",
         "type": "float"
        }
       ],
       "conversionMethod": "pd.DataFrame",
       "ref": "d57707dd-975e-4406-bbd3-671c51256210",
       "rows": [
        [
         "count",
         "48842.0",
         "48842.0",
         "48842.0",
         "48842.0",
         "48842.0",
         "48842.0"
        ],
        [
         "mean",
         "38.64358543876172",
         "189664.13459727284",
         "10.078088530363212",
         "1079.0676262233324",
         "87.50231358257237",
         "40.422382375824085"
        ],
        [
         "std",
         "13.710509934443555",
         "105604.02542315728",
         "2.5709727555922566",
         "7452.019057655394",
         "403.00455212435907",
         "12.391444024252307"
        ],
        [
         "min",
         "17.0",
         "12285.0",
         "1.0",
         "0.0",
         "0.0",
         "1.0"
        ],
        [
         "25%",
         "28.0",
         "117550.5",
         "9.0",
         "0.0",
         "0.0",
         "40.0"
        ],
        [
         "50%",
         "37.0",
         "178144.5",
         "10.0",
         "0.0",
         "0.0",
         "40.0"
        ],
        [
         "75%",
         "48.0",
         "237642.0",
         "12.0",
         "0.0",
         "0.0",
         "45.0"
        ],
        [
         "max",
         "90.0",
         "1490400.0",
         "16.0",
         "99999.0",
         "4356.0",
         "99.0"
        ]
       ],
       "shape": {
        "columns": 6,
        "rows": 8
       }
      },
      "text/html": [
       "<div>\n",
       "<style scoped>\n",
       "    .dataframe tbody tr th:only-of-type {\n",
       "        vertical-align: middle;\n",
       "    }\n",
       "\n",
       "    .dataframe tbody tr th {\n",
       "        vertical-align: top;\n",
       "    }\n",
       "\n",
       "    .dataframe thead th {\n",
       "        text-align: right;\n",
       "    }\n",
       "</style>\n",
       "<table border=\"1\" class=\"dataframe\">\n",
       "  <thead>\n",
       "    <tr style=\"text-align: right;\">\n",
       "      <th></th>\n",
       "      <th>age</th>\n",
       "      <th>fnlwgt</th>\n",
       "      <th>education-num</th>\n",
       "      <th>capital-gain</th>\n",
       "      <th>capital-loss</th>\n",
       "      <th>hours-per-week</th>\n",
       "    </tr>\n",
       "  </thead>\n",
       "  <tbody>\n",
       "    <tr>\n",
       "      <th>count</th>\n",
       "      <td>48842.000000</td>\n",
       "      <td>4.884200e+04</td>\n",
       "      <td>48842.000000</td>\n",
       "      <td>48842.000000</td>\n",
       "      <td>48842.000000</td>\n",
       "      <td>48842.000000</td>\n",
       "    </tr>\n",
       "    <tr>\n",
       "      <th>mean</th>\n",
       "      <td>38.643585</td>\n",
       "      <td>1.896641e+05</td>\n",
       "      <td>10.078089</td>\n",
       "      <td>1079.067626</td>\n",
       "      <td>87.502314</td>\n",
       "      <td>40.422382</td>\n",
       "    </tr>\n",
       "    <tr>\n",
       "      <th>std</th>\n",
       "      <td>13.710510</td>\n",
       "      <td>1.056040e+05</td>\n",
       "      <td>2.570973</td>\n",
       "      <td>7452.019058</td>\n",
       "      <td>403.004552</td>\n",
       "      <td>12.391444</td>\n",
       "    </tr>\n",
       "    <tr>\n",
       "      <th>min</th>\n",
       "      <td>17.000000</td>\n",
       "      <td>1.228500e+04</td>\n",
       "      <td>1.000000</td>\n",
       "      <td>0.000000</td>\n",
       "      <td>0.000000</td>\n",
       "      <td>1.000000</td>\n",
       "    </tr>\n",
       "    <tr>\n",
       "      <th>25%</th>\n",
       "      <td>28.000000</td>\n",
       "      <td>1.175505e+05</td>\n",
       "      <td>9.000000</td>\n",
       "      <td>0.000000</td>\n",
       "      <td>0.000000</td>\n",
       "      <td>40.000000</td>\n",
       "    </tr>\n",
       "    <tr>\n",
       "      <th>50%</th>\n",
       "      <td>37.000000</td>\n",
       "      <td>1.781445e+05</td>\n",
       "      <td>10.000000</td>\n",
       "      <td>0.000000</td>\n",
       "      <td>0.000000</td>\n",
       "      <td>40.000000</td>\n",
       "    </tr>\n",
       "    <tr>\n",
       "      <th>75%</th>\n",
       "      <td>48.000000</td>\n",
       "      <td>2.376420e+05</td>\n",
       "      <td>12.000000</td>\n",
       "      <td>0.000000</td>\n",
       "      <td>0.000000</td>\n",
       "      <td>45.000000</td>\n",
       "    </tr>\n",
       "    <tr>\n",
       "      <th>max</th>\n",
       "      <td>90.000000</td>\n",
       "      <td>1.490400e+06</td>\n",
       "      <td>16.000000</td>\n",
       "      <td>99999.000000</td>\n",
       "      <td>4356.000000</td>\n",
       "      <td>99.000000</td>\n",
       "    </tr>\n",
       "  </tbody>\n",
       "</table>\n",
       "</div>"
      ],
      "text/plain": [
       "                age        fnlwgt  education-num  capital-gain  capital-loss  \\\n",
       "count  48842.000000  4.884200e+04   48842.000000  48842.000000  48842.000000   \n",
       "mean      38.643585  1.896641e+05      10.078089   1079.067626     87.502314   \n",
       "std       13.710510  1.056040e+05       2.570973   7452.019058    403.004552   \n",
       "min       17.000000  1.228500e+04       1.000000      0.000000      0.000000   \n",
       "25%       28.000000  1.175505e+05       9.000000      0.000000      0.000000   \n",
       "50%       37.000000  1.781445e+05      10.000000      0.000000      0.000000   \n",
       "75%       48.000000  2.376420e+05      12.000000      0.000000      0.000000   \n",
       "max       90.000000  1.490400e+06      16.000000  99999.000000   4356.000000   \n",
       "\n",
       "       hours-per-week  \n",
       "count    48842.000000  \n",
       "mean        40.422382  \n",
       "std         12.391444  \n",
       "min          1.000000  \n",
       "25%         40.000000  \n",
       "50%         40.000000  \n",
       "75%         45.000000  \n",
       "max         99.000000  "
      ]
     },
     "execution_count": 37,
     "metadata": {},
     "output_type": "execute_result"
    }
   ],
   "source": [
    "X.describe()"
   ]
  },
  {
   "cell_type": "code",
   "execution_count": 38,
   "metadata": {},
   "outputs": [
    {
     "name": "stderr",
     "output_type": "stream",
     "text": [
      "/var/folders/t6/vz8d554s7x93_ptfs7fglwr80000gs/T/ipykernel_60017/2481787065.py:1: SettingWithCopyWarning: \n",
      "A value is trying to be set on a copy of a slice from a DataFrame.\n",
      "Try using .loc[row_indexer,col_indexer] = value instead\n",
      "\n",
      "See the caveats in the documentation: https://pandas.pydata.org/pandas-docs/stable/user_guide/indexing.html#returning-a-view-versus-a-copy\n",
      "  y['income']=y['income'].apply(lambda s : s.replace('.', ''))\n",
      "/var/folders/t6/vz8d554s7x93_ptfs7fglwr80000gs/T/ipykernel_60017/2481787065.py:2: SettingWithCopyWarning: \n",
      "A value is trying to be set on a copy of a slice from a DataFrame.\n",
      "Try using .loc[row_indexer,col_indexer] = value instead\n",
      "\n",
      "See the caveats in the documentation: https://pandas.pydata.org/pandas-docs/stable/user_guide/indexing.html#returning-a-view-versus-a-copy\n",
      "  y['income']=y['income'].astype('category')\n",
      "/var/folders/t6/vz8d554s7x93_ptfs7fglwr80000gs/T/ipykernel_60017/2481787065.py:3: SettingWithCopyWarning: \n",
      "A value is trying to be set on a copy of a slice from a DataFrame.\n",
      "Try using .loc[row_indexer,col_indexer] = value instead\n",
      "\n",
      "See the caveats in the documentation: https://pandas.pydata.org/pandas-docs/stable/user_guide/indexing.html#returning-a-view-versus-a-copy\n",
      "  y['income']=y['income'].cat.codes\n"
     ]
    }
   ],
   "source": [
    "y['income']=y['income'].apply(lambda s : s.replace('.', ''))\n",
    "y['income']=y['income'].astype('category')\n",
    "y['income']=y['income'].cat.codes"
   ]
  },
  {
   "cell_type": "code",
   "execution_count": 39,
   "metadata": {},
   "outputs": [
    {
     "data": {
      "application/vnd.microsoft.datawrangler.viewer.v0+json": {
       "columns": [
        {
         "name": "index",
         "rawType": "int64",
         "type": "integer"
        },
        {
         "name": "income",
         "rawType": "int8",
         "type": "integer"
        }
       ],
       "conversionMethod": "pd.DataFrame",
       "ref": "ff8314d9-6596-4b91-870b-c97299c33595",
       "rows": [
        [
         "0",
         "0"
        ],
        [
         "1",
         "0"
        ],
        [
         "2",
         "0"
        ],
        [
         "3",
         "0"
        ],
        [
         "4",
         "0"
        ],
        [
         "5",
         "0"
        ],
        [
         "6",
         "0"
        ],
        [
         "7",
         "1"
        ],
        [
         "8",
         "1"
        ],
        [
         "9",
         "1"
        ],
        [
         "10",
         "1"
        ],
        [
         "11",
         "1"
        ],
        [
         "12",
         "0"
        ],
        [
         "13",
         "0"
        ],
        [
         "14",
         "1"
        ],
        [
         "15",
         "0"
        ],
        [
         "16",
         "0"
        ],
        [
         "17",
         "0"
        ],
        [
         "18",
         "0"
        ],
        [
         "19",
         "1"
        ],
        [
         "20",
         "1"
        ],
        [
         "21",
         "0"
        ],
        [
         "22",
         "0"
        ],
        [
         "23",
         "0"
        ],
        [
         "24",
         "0"
        ],
        [
         "25",
         "1"
        ],
        [
         "26",
         "0"
        ],
        [
         "27",
         "1"
        ],
        [
         "28",
         "0"
        ],
        [
         "29",
         "0"
        ],
        [
         "30",
         "0"
        ],
        [
         "31",
         "0"
        ],
        [
         "32",
         "0"
        ],
        [
         "33",
         "0"
        ],
        [
         "34",
         "0"
        ],
        [
         "35",
         "0"
        ],
        [
         "36",
         "0"
        ],
        [
         "37",
         "0"
        ],
        [
         "38",
         "1"
        ],
        [
         "39",
         "0"
        ],
        [
         "40",
         "0"
        ],
        [
         "41",
         "0"
        ],
        [
         "42",
         "0"
        ],
        [
         "43",
         "0"
        ],
        [
         "44",
         "0"
        ],
        [
         "45",
         "1"
        ],
        [
         "46",
         "0"
        ],
        [
         "47",
         "0"
        ],
        [
         "48",
         "0"
        ],
        [
         "49",
         "0"
        ]
       ],
       "shape": {
        "columns": 1,
        "rows": 48842
       }
      },
      "text/html": [
       "<div>\n",
       "<style scoped>\n",
       "    .dataframe tbody tr th:only-of-type {\n",
       "        vertical-align: middle;\n",
       "    }\n",
       "\n",
       "    .dataframe tbody tr th {\n",
       "        vertical-align: top;\n",
       "    }\n",
       "\n",
       "    .dataframe thead th {\n",
       "        text-align: right;\n",
       "    }\n",
       "</style>\n",
       "<table border=\"1\" class=\"dataframe\">\n",
       "  <thead>\n",
       "    <tr style=\"text-align: right;\">\n",
       "      <th></th>\n",
       "      <th>income</th>\n",
       "    </tr>\n",
       "  </thead>\n",
       "  <tbody>\n",
       "    <tr>\n",
       "      <th>0</th>\n",
       "      <td>0</td>\n",
       "    </tr>\n",
       "    <tr>\n",
       "      <th>1</th>\n",
       "      <td>0</td>\n",
       "    </tr>\n",
       "    <tr>\n",
       "      <th>2</th>\n",
       "      <td>0</td>\n",
       "    </tr>\n",
       "    <tr>\n",
       "      <th>3</th>\n",
       "      <td>0</td>\n",
       "    </tr>\n",
       "    <tr>\n",
       "      <th>4</th>\n",
       "      <td>0</td>\n",
       "    </tr>\n",
       "    <tr>\n",
       "      <th>...</th>\n",
       "      <td>...</td>\n",
       "    </tr>\n",
       "    <tr>\n",
       "      <th>48837</th>\n",
       "      <td>0</td>\n",
       "    </tr>\n",
       "    <tr>\n",
       "      <th>48838</th>\n",
       "      <td>0</td>\n",
       "    </tr>\n",
       "    <tr>\n",
       "      <th>48839</th>\n",
       "      <td>0</td>\n",
       "    </tr>\n",
       "    <tr>\n",
       "      <th>48840</th>\n",
       "      <td>0</td>\n",
       "    </tr>\n",
       "    <tr>\n",
       "      <th>48841</th>\n",
       "      <td>1</td>\n",
       "    </tr>\n",
       "  </tbody>\n",
       "</table>\n",
       "<p>48842 rows × 1 columns</p>\n",
       "</div>"
      ],
      "text/plain": [
       "       income\n",
       "0           0\n",
       "1           0\n",
       "2           0\n",
       "3           0\n",
       "4           0\n",
       "...       ...\n",
       "48837       0\n",
       "48838       0\n",
       "48839       0\n",
       "48840       0\n",
       "48841       1\n",
       "\n",
       "[48842 rows x 1 columns]"
      ]
     },
     "execution_count": 39,
     "metadata": {},
     "output_type": "execute_result"
    }
   ],
   "source": [
    "y"
   ]
  },
  {
   "cell_type": "markdown",
   "metadata": {},
   "source": [
    "## Data splits"
   ]
  },
  {
   "cell_type": "code",
   "execution_count": 40,
   "metadata": {},
   "outputs": [],
   "source": [
    "seed=42\n",
    "from sklearn.model_selection import train_test_split\n",
    "X_train, X_test, y_train, y_test = train_test_split(X, y, test_size=0.2, random_state=seed)"
   ]
  },
  {
   "cell_type": "markdown",
   "metadata": {},
   "source": [
    "## Standardize numerical features"
   ]
  },
  {
   "cell_type": "code",
   "execution_count": null,
   "metadata": {},
   "outputs": [
    {
     "data": {
      "text/plain": [
       "37193    32\n",
       "31093    45\n",
       "33814    35\n",
       "14500    64\n",
       "23399    63\n",
       "         ..\n",
       "11284    35\n",
       "44732    21\n",
       "38158    23\n",
       "860      18\n",
       "15795    50\n",
       "Name: age, Length: 39073, dtype: int64"
      ]
     },
     "execution_count": 48,
     "metadata": {},
     "output_type": "execute_result"
    }
   ],
   "source": [
    "from sklearn.preprocessing import StandardScaler\n",
    "\n",
    "scaler = StandardScaler()\n",
    "X_train[numerical]=scaler.fit_transform(X_train[numerical])"
   ]
  },
  {
   "cell_type": "code",
   "execution_count": null,
   "metadata": {},
   "outputs": [
    {
     "data": {
      "application/vnd.microsoft.datawrangler.viewer.v0+json": {
       "columns": [
        {
         "name": "index",
         "rawType": "int64",
         "type": "integer"
        },
        {
         "name": "age",
         "rawType": "int64",
         "type": "integer"
        },
        {
         "name": "workclass",
         "rawType": "category",
         "type": "unknown"
        },
        {
         "name": "fnlwgt",
         "rawType": "float64",
         "type": "float"
        },
        {
         "name": "education",
         "rawType": "category",
         "type": "unknown"
        },
        {
         "name": "education-num",
         "rawType": "float64",
         "type": "float"
        },
        {
         "name": "marital-status",
         "rawType": "category",
         "type": "unknown"
        },
        {
         "name": "occupation",
         "rawType": "category",
         "type": "unknown"
        },
        {
         "name": "relationship",
         "rawType": "category",
         "type": "unknown"
        },
        {
         "name": "race",
         "rawType": "category",
         "type": "unknown"
        },
        {
         "name": "sex",
         "rawType": "category",
         "type": "unknown"
        },
        {
         "name": "capital-gain",
         "rawType": "float64",
         "type": "float"
        },
        {
         "name": "capital-loss",
         "rawType": "float64",
         "type": "float"
        },
        {
         "name": "hours-per-week",
         "rawType": "float64",
         "type": "float"
        },
        {
         "name": "native-country",
         "rawType": "category",
         "type": "unknown"
        }
       ],
       "conversionMethod": "pd.DataFrame",
       "ref": "5ee1b549-e5f4-45b1-8702-af2714466332",
       "rows": [
        [
         "7762",
         "18",
         "Private",
         "2.2020506679527316",
         "HS-grad",
         "-0.420107682252377",
         "Never-married",
         "Other-service",
         "Not-in-family",
         "White",
         "Male",
         "-0.14552350385541205",
         "-0.21666844749555983",
         "-1.6460863448360554",
         "United-States"
        ],
        [
         "23881",
         "17",
         "Private",
         "-0.10446253456835614",
         "12th",
         "-0.8099354458281138",
         "Never-married",
         "Sales",
         "Own-child",
         "White",
         "Female",
         "-0.14552350385541205",
         "-0.21666844749555983",
         "-1.6460863448360554",
         "United-States"
        ],
        [
         "30507",
         "25",
         "Local-gov",
         "1.5023787508128161",
         "HS-grad",
         "-0.420107682252377",
         "Never-married",
         "Handlers-cleaners",
         "Other-relative",
         "Black",
         "Male",
         "-0.14552350385541205",
         "-0.21666844749555983",
         "-0.032338559012611096",
         "United-States"
        ],
        [
         "28911",
         "20",
         "Private",
         "0.26657016230010816",
         "Some-college",
         "-0.030279918676640226",
         "Never-married",
         "Sales",
         "Own-child",
         "White",
         "Female",
         "-0.14552350385541205",
         "-0.21666844749555983",
         "-0.8392124519243332",
         "United-States"
        ],
        [
         "19484",
         "47",
         "Private",
         "0.5104791304162272",
         "HS-grad",
         "-0.420107682252377",
         "Never-married",
         "Machine-op-inspct",
         "Unmarried",
         "Amer-Indian-Eskimo",
         "Male",
         "-0.14552350385541205",
         "-0.21666844749555983",
         "1.2586596696461443",
         "Puerto-Rico"
        ],
        [
         "43031",
         "33",
         "Private",
         "1.9800377509456808",
         "Bachelors",
         "1.13920337205057",
         "Married-civ-spouse",
         "Craft-repair",
         "Husband",
         "Black",
         "Male",
         "-0.14552350385541205",
         "-0.21666844749555983",
         "-0.032338559012611096",
         "United-States"
        ],
        [
         "28188",
         "38",
         "Private",
         "0.096514297083155",
         "HS-grad",
         "-0.420107682252377",
         "Married-civ-spouse",
         "Craft-repair",
         "Husband",
         "White",
         "Male",
         "-0.14552350385541205",
         "-0.21666844749555983",
         "-0.032338559012611096",
         "United-States"
        ],
        [
         "12761",
         "21",
         "Private",
         "1.318516182673831",
         "11th",
         "-1.1997632094038506",
         "Married-civ-spouse",
         "Craft-repair",
         "Husband",
         "White",
         "Male",
         "-0.14552350385541205",
         "-0.21666844749555983",
         "-0.032338559012611096",
         "Mexico"
        ],
        [
         "40834",
         "43",
         "Private",
         "0.8708142313177233",
         "Assoc-acdm",
         "0.7493756084748333",
         "Divorced",
         "Prof-specialty",
         "Not-in-family",
         "White",
         "Female",
         "0.47448117752975305",
         "-0.21666844749555983",
         "-0.032338559012611096",
         "United-States"
        ],
        [
         "27875",
         "55",
         "Private",
         "0.1154146433145474",
         "HS-grad",
         "-0.420107682252377",
         "Married-civ-spouse",
         "Other-service",
         "Wife",
         "Black",
         "Female",
         "0.17541225272396269",
         "-0.21666844749555983",
         "-0.43577550546847216",
         "United-States"
        ],
        [
         "1276",
         "46",
         "Private",
         "-0.5764608810049187",
         "Bachelors",
         "1.13920337205057",
         "Married-civ-spouse",
         "Sales",
         "Husband",
         "White",
         "Male",
         "-0.14552350385541205",
         "4.6913305972003485",
         "-0.032338559012611096",
         "United-States"
        ],
        [
         "22608",
         "34",
         "Private",
         "0.6784465073746114",
         "Assoc-voc",
         "0.3595478448990966",
         "Married-civ-spouse",
         "Adm-clerical",
         "Husband",
         "Black",
         "Male",
         "-0.14552350385541205",
         "-0.21666844749555983",
         "0.37109838744324997",
         "United-States"
        ],
        [
         "36230",
         "40",
         null,
         "0.5372892715454572",
         "Bachelors",
         "1.13920337205057",
         "Widowed",
         null,
         "Not-in-family",
         "White",
         "Female",
         "-0.14552350385541205",
         "-0.21666844749555983",
         "-2.6143350163301218",
         "United-States"
        ],
        [
         "13398",
         "50",
         "Private",
         "-0.1535939845968607",
         "HS-grad",
         "-0.420107682252377",
         "Married-civ-spouse",
         "Craft-repair",
         "Husband",
         "White",
         "Male",
         "-0.14552350385541205",
         "-0.21666844749555983",
         "-0.032338559012611096",
         "United-States"
        ],
        [
         "43536",
         "29",
         "Private",
         "-0.12549861992389588",
         "Some-college",
         "-0.030279918676640226",
         "Never-married",
         "Craft-repair",
         "Not-in-family",
         "White",
         "Male",
         "-0.14552350385541205",
         "-0.21666844749555983",
         "-0.19371333759495551",
         "United-States"
        ],
        [
         "18627",
         "62",
         "Private",
         "-1.5639283702102462",
         "9th",
         "-1.9794187365553242",
         "Married-civ-spouse",
         "Exec-managerial",
         "Husband",
         "White",
         "Male",
         "-0.14552350385541205",
         "-0.21666844749555983",
         "-0.032338559012611096",
         "United-States"
        ],
        [
         "38424",
         "56",
         "Private",
         "-0.2951386775237584",
         "11th",
         "-1.1997632094038506",
         "Married-civ-spouse",
         "Sales",
         "Husband",
         "White",
         "Male",
         "-0.14552350385541205",
         "-0.21666844749555983",
         "1.1779722803549721",
         "United-States"
        ],
        [
         "35505",
         "40",
         "Federal-gov",
         "-0.9381190061426123",
         "Some-college",
         "-0.030279918676640226",
         "Married-civ-spouse",
         "Adm-clerical",
         "Husband",
         "White",
         "Male",
         "-0.14552350385541205",
         "4.467901202145907",
         "-0.032338559012611096",
         "United-States"
        ],
        [
         "2372",
         "74",
         "?",
         "1.4263332077508089",
         "9th",
         "-1.9794187365553242",
         "Married-civ-spouse",
         "?",
         "Husband",
         "White",
         "Male",
         "0.31727999057209505",
         "-0.21666844749555983",
         "-0.032338559012611096",
         "United-States"
        ],
        [
         "3375",
         "21",
         "Private",
         "1.0949628874489215",
         "Some-college",
         "-0.030279918676640226",
         "Married-civ-spouse",
         "Craft-repair",
         "Husband",
         "White",
         "Male",
         "-0.14552350385541205",
         "-0.21666844749555983",
         "1.0972848910637998",
         "United-States"
        ],
        [
         "28331",
         "31",
         "Private",
         "-1.0915520168490558",
         "HS-grad",
         "-0.420107682252377",
         "Divorced",
         "Other-service",
         "Unmarried",
         "White",
         "Female",
         "-0.14552350385541205",
         "-0.21666844749555983",
         "-0.8392124519243332",
         "United-States"
        ],
        [
         "46820",
         "36",
         "Private",
         "0.9988735272085225",
         "Masters",
         "1.5290311356263069",
         "Married-civ-spouse",
         "Exec-managerial",
         "Husband",
         "White",
         "Male",
         "-0.14552350385541205",
         "-0.21666844749555983",
         "2.3882831197225554",
         "United-States"
        ],
        [
         "147",
         "36",
         "Private",
         "-0.7722117669234497",
         "HS-grad",
         "-0.420107682252377",
         "Widowed",
         "Other-service",
         "Unmarried",
         "White",
         "Female",
         "-0.14552350385541205",
         "-0.21666844749555983",
         "-1.3233367876713664",
         "United-States"
        ],
        [
         "21063",
         "64",
         "State-gov",
         "-0.7391172606722817",
         "Bachelors",
         "1.13920337205057",
         "Married-civ-spouse",
         "Craft-repair",
         "Husband",
         "White",
         "Male",
         "-0.14552350385541205",
         "-0.21666844749555983",
         "0.37109838744324997",
         "United-States"
        ],
        [
         "20139",
         "32",
         "Local-gov",
         "0.5724722660551942",
         "Bachelors",
         "1.13920337205057",
         "Never-married",
         "Prof-specialty",
         "Not-in-family",
         "White",
         "Female",
         "-0.14552350385541205",
         "-0.21666844749555983",
         "0.774535333899111",
         "United-States"
        ],
        [
         "23288",
         "55",
         "Local-gov",
         "-0.292757233898603",
         "HS-grad",
         "-0.420107682252377",
         "Married-civ-spouse",
         "Transport-moving",
         "Husband",
         "White",
         "Male",
         "-0.14552350385541205",
         "-0.21666844749555983",
         "-0.032338559012611096",
         "United-States"
        ],
        [
         "18957",
         "33",
         "Private",
         "-0.09685514521022069",
         "HS-grad",
         "-0.420107682252377",
         "Married-civ-spouse",
         "Sales",
         "Wife",
         "White",
         "Female",
         "-0.14552350385541205",
         "-0.21666844749555983",
         "-1.6460863448360554",
         "United-States"
        ],
        [
         "31256",
         "52",
         "Self-emp-not-inc",
         "-1.4650984597662953",
         "HS-grad",
         "-0.420107682252377",
         "Married-civ-spouse",
         "Farming-fishing",
         "Husband",
         "White",
         "Male",
         "-0.14552350385541205",
         "4.467901202145907",
         "1.581409226810833",
         "United-States"
        ],
        [
         "29642",
         "45",
         "Self-emp-inc",
         "0.1340881853911631",
         "Bachelors",
         "1.13920337205057",
         "Divorced",
         "Exec-managerial",
         "Unmarried",
         "White",
         "Male",
         "-0.14552350385541205",
         "-0.21666844749555983",
         "0.774535333899111",
         "United-States"
        ],
        [
         "23638",
         "47",
         "Private",
         "-1.3491070349442402",
         "Some-college",
         "-0.030279918676640226",
         "Married-civ-spouse",
         "Adm-clerical",
         "Wife",
         "White",
         "Female",
         "-0.14552350385541205",
         "-0.21666844749555983",
         "-0.032338559012611096",
         "United-States"
        ],
        [
         "18067",
         "27",
         "Private",
         "-0.37731738293785255",
         "Bachelors",
         "1.13920337205057",
         "Never-married",
         "Exec-managerial",
         "Own-child",
         "White",
         "Female",
         "-0.14552350385541205",
         "-0.21666844749555983",
         "-0.032338559012611096",
         "United-States"
        ],
        [
         "879",
         "19",
         "Private",
         "1.7627688208427092",
         "HS-grad",
         "-0.420107682252377",
         "Never-married",
         "Adm-clerical",
         "Not-in-family",
         "White",
         "Female",
         "-0.14552350385541205",
         "-0.21666844749555983",
         "-0.8392124519243332",
         "United-States"
        ],
        [
         "7155",
         "52",
         "Private",
         "-0.8530768982744622",
         "Masters",
         "1.5290311356263069",
         "Divorced",
         "Prof-specialty",
         "Unmarried",
         "White",
         "Male",
         "1.8571582841887126",
         "-0.21666844749555983",
         "0.774535333899111",
         "United-States"
        ],
        [
         "43769",
         "26",
         "Private",
         "-0.2240261248281445",
         "Bachelors",
         "1.13920337205057",
         "Never-married",
         "Tech-support",
         "Not-in-family",
         "White",
         "Male",
         "-0.14552350385541205",
         "-0.21666844749555983",
         "-0.032338559012611096",
         "United-States"
        ],
        [
         "17697",
         "50",
         "Private",
         "1.2451828392960285",
         "HS-grad",
         "-0.420107682252377",
         "Divorced",
         "Adm-clerical",
         "Not-in-family",
         "White",
         "Female",
         "-0.14552350385541205",
         "-0.21666844749555983",
         "-0.032338559012611096",
         "United-States"
        ],
        [
         "21167",
         "40",
         "Private",
         "-0.7872847930429853",
         "Assoc-acdm",
         "0.7493756084748333",
         "Divorced",
         "Transport-moving",
         "Unmarried",
         "White",
         "Female",
         "-0.14552350385541205",
         "-0.21666844749555983",
         "-0.032338559012611096",
         "United-States"
        ],
        [
         "3136",
         "45",
         "Self-emp-not-inc",
         "-1.4915683946633604",
         "Some-college",
         "-0.030279918676640226",
         "Never-married",
         "Farming-fishing",
         "Not-in-family",
         "White",
         "Male",
         "-0.14552350385541205",
         "-0.21666844749555983",
         "0.774535333899111",
         "United-States"
        ],
        [
         "34254",
         "25",
         "Private",
         "0.5046672739500739",
         "HS-grad",
         "-0.420107682252377",
         "Never-married",
         "Other-service",
         "Not-in-family",
         "Black",
         "Female",
         "-0.14552350385541205",
         "-0.21666844749555983",
         "-0.032338559012611096",
         "United-States"
        ],
        [
         "17657",
         "37",
         "Private",
         "0.330188727714975",
         "Assoc-voc",
         "0.3595478448990966",
         "Never-married",
         "Other-service",
         "Not-in-family",
         "White",
         "Male",
         "-0.14552350385541205",
         "-0.21666844749555983",
         "-0.032338559012611096",
         "United-States"
        ],
        [
         "37254",
         "49",
         "Self-emp-not-inc",
         "-1.4663080819251044",
         "Assoc-voc",
         "0.3595478448990966",
         "Divorced",
         "Transport-moving",
         "Not-in-family",
         "White",
         "Male",
         "-0.14552350385541205",
         "-0.21666844749555983",
         "0.6131605553167666",
         "United-States"
        ],
        [
         "1422",
         "40",
         "Private",
         "0.12157615618598132",
         "Assoc-acdm",
         "0.7493756084748333",
         "Never-married",
         "Adm-clerical",
         "Own-child",
         "White",
         "Female",
         "-0.14552350385541205",
         "-0.21666844749555983",
         "0.37109838744324997",
         "United-States"
        ],
        [
         "32507",
         "50",
         "Private",
         "1.0618683811977534",
         "Bachelors",
         "1.13920337205057",
         "Married-civ-spouse",
         "Prof-specialty",
         "Husband",
         "White",
         "Male",
         "-0.14552350385541205",
         "-0.21666844749555983",
         "-0.032338559012611096",
         "United-States"
        ],
        [
         "30150",
         "22",
         "Private",
         "0.19631757535802258",
         "Bachelors",
         "1.13920337205057",
         "Never-married",
         "Adm-clerical",
         "Own-child",
         "White",
         "Female",
         "-0.14552350385541205",
         "-0.21666844749555983",
         "-0.43577550546847216",
         "United-States"
        ],
        [
         "14172",
         "38",
         "Private",
         "-1.2464687047346636",
         "Bachelors",
         "1.13920337205057",
         "Married-civ-spouse",
         "Exec-managerial",
         "Husband",
         "White",
         "Male",
         "-0.14552350385541205",
         "-0.21666844749555983",
         "0.774535333899111",
         "United-States"
        ],
        [
         "32273",
         "24",
         "Private",
         "0.1512118990768046",
         "Assoc-acdm",
         "0.7493756084748333",
         "Never-married",
         "Prof-specialty",
         "Own-child",
         "Black",
         "Male",
         "-0.14552350385541205",
         "-0.21666844749555983",
         "-1.6460863448360554",
         "United-States"
        ],
        [
         "48262",
         "21",
         "Private",
         "-0.24409829252588322",
         "HS-grad",
         "-0.420107682252377",
         "Married-civ-spouse",
         "Craft-repair",
         "Husband",
         "White",
         "Male",
         "-0.14552350385541205",
         "-0.21666844749555983",
         "-0.032338559012611096",
         "United-States"
        ],
        [
         "10007",
         "27",
         "State-gov",
         "3.4348163007221855",
         "Bachelors",
         "1.13920337205057",
         "Married-civ-spouse",
         "Protective-serv",
         "Wife",
         "Black",
         "Female",
         "-0.14552350385541205",
         "-0.21666844749555983",
         "0.6131605553167666",
         "United-States"
        ],
        [
         "47649",
         "90",
         "Private",
         "0.07187769577053499",
         "HS-grad",
         "-0.420107682252377",
         "Never-married",
         "Adm-clerical",
         "Not-in-family",
         "White",
         "Female",
         "-0.14552350385541205",
         "-0.21666844749555983",
         "-0.032338559012611096",
         "United-States"
        ],
        [
         "43058",
         "52",
         "Private",
         "-1.4272977673035105",
         "10th",
         "-1.5895909729795874",
         "Widowed",
         "Sales",
         "Unmarried",
         "Black",
         "Female",
         "-0.14552350385541205",
         "-0.21666844749555983",
         "-0.032338559012611096",
         "United-States"
        ],
        [
         "708",
         "60",
         "Private",
         "-0.11663435754137284",
         "HS-grad",
         "-0.420107682252377",
         "Married-civ-spouse",
         "Craft-repair",
         "Husband",
         "White",
         "Male",
         "-0.14552350385541205",
         "-0.21666844749555983",
         "-0.43577550546847216",
         "United-States"
        ]
       ],
       "shape": {
        "columns": 14,
        "rows": 9769
       }
      },
      "text/html": [
       "<div>\n",
       "<style scoped>\n",
       "    .dataframe tbody tr th:only-of-type {\n",
       "        vertical-align: middle;\n",
       "    }\n",
       "\n",
       "    .dataframe tbody tr th {\n",
       "        vertical-align: top;\n",
       "    }\n",
       "\n",
       "    .dataframe thead th {\n",
       "        text-align: right;\n",
       "    }\n",
       "</style>\n",
       "<table border=\"1\" class=\"dataframe\">\n",
       "  <thead>\n",
       "    <tr style=\"text-align: right;\">\n",
       "      <th></th>\n",
       "      <th>age</th>\n",
       "      <th>workclass</th>\n",
       "      <th>fnlwgt</th>\n",
       "      <th>education</th>\n",
       "      <th>education-num</th>\n",
       "      <th>marital-status</th>\n",
       "      <th>occupation</th>\n",
       "      <th>relationship</th>\n",
       "      <th>race</th>\n",
       "      <th>sex</th>\n",
       "      <th>capital-gain</th>\n",
       "      <th>capital-loss</th>\n",
       "      <th>hours-per-week</th>\n",
       "      <th>native-country</th>\n",
       "    </tr>\n",
       "  </thead>\n",
       "  <tbody>\n",
       "    <tr>\n",
       "      <th>7762</th>\n",
       "      <td>18</td>\n",
       "      <td>Private</td>\n",
       "      <td>2.202051</td>\n",
       "      <td>HS-grad</td>\n",
       "      <td>-0.420108</td>\n",
       "      <td>Never-married</td>\n",
       "      <td>Other-service</td>\n",
       "      <td>Not-in-family</td>\n",
       "      <td>White</td>\n",
       "      <td>Male</td>\n",
       "      <td>-0.145524</td>\n",
       "      <td>-0.216668</td>\n",
       "      <td>-1.646086</td>\n",
       "      <td>United-States</td>\n",
       "    </tr>\n",
       "    <tr>\n",
       "      <th>23881</th>\n",
       "      <td>17</td>\n",
       "      <td>Private</td>\n",
       "      <td>-0.104463</td>\n",
       "      <td>12th</td>\n",
       "      <td>-0.809935</td>\n",
       "      <td>Never-married</td>\n",
       "      <td>Sales</td>\n",
       "      <td>Own-child</td>\n",
       "      <td>White</td>\n",
       "      <td>Female</td>\n",
       "      <td>-0.145524</td>\n",
       "      <td>-0.216668</td>\n",
       "      <td>-1.646086</td>\n",
       "      <td>United-States</td>\n",
       "    </tr>\n",
       "    <tr>\n",
       "      <th>30507</th>\n",
       "      <td>25</td>\n",
       "      <td>Local-gov</td>\n",
       "      <td>1.502379</td>\n",
       "      <td>HS-grad</td>\n",
       "      <td>-0.420108</td>\n",
       "      <td>Never-married</td>\n",
       "      <td>Handlers-cleaners</td>\n",
       "      <td>Other-relative</td>\n",
       "      <td>Black</td>\n",
       "      <td>Male</td>\n",
       "      <td>-0.145524</td>\n",
       "      <td>-0.216668</td>\n",
       "      <td>-0.032339</td>\n",
       "      <td>United-States</td>\n",
       "    </tr>\n",
       "    <tr>\n",
       "      <th>28911</th>\n",
       "      <td>20</td>\n",
       "      <td>Private</td>\n",
       "      <td>0.266570</td>\n",
       "      <td>Some-college</td>\n",
       "      <td>-0.030280</td>\n",
       "      <td>Never-married</td>\n",
       "      <td>Sales</td>\n",
       "      <td>Own-child</td>\n",
       "      <td>White</td>\n",
       "      <td>Female</td>\n",
       "      <td>-0.145524</td>\n",
       "      <td>-0.216668</td>\n",
       "      <td>-0.839212</td>\n",
       "      <td>United-States</td>\n",
       "    </tr>\n",
       "    <tr>\n",
       "      <th>19484</th>\n",
       "      <td>47</td>\n",
       "      <td>Private</td>\n",
       "      <td>0.510479</td>\n",
       "      <td>HS-grad</td>\n",
       "      <td>-0.420108</td>\n",
       "      <td>Never-married</td>\n",
       "      <td>Machine-op-inspct</td>\n",
       "      <td>Unmarried</td>\n",
       "      <td>Amer-Indian-Eskimo</td>\n",
       "      <td>Male</td>\n",
       "      <td>-0.145524</td>\n",
       "      <td>-0.216668</td>\n",
       "      <td>1.258660</td>\n",
       "      <td>Puerto-Rico</td>\n",
       "    </tr>\n",
       "    <tr>\n",
       "      <th>...</th>\n",
       "      <td>...</td>\n",
       "      <td>...</td>\n",
       "      <td>...</td>\n",
       "      <td>...</td>\n",
       "      <td>...</td>\n",
       "      <td>...</td>\n",
       "      <td>...</td>\n",
       "      <td>...</td>\n",
       "      <td>...</td>\n",
       "      <td>...</td>\n",
       "      <td>...</td>\n",
       "      <td>...</td>\n",
       "      <td>...</td>\n",
       "      <td>...</td>\n",
       "    </tr>\n",
       "    <tr>\n",
       "      <th>43046</th>\n",
       "      <td>56</td>\n",
       "      <td>Self-emp-not-inc</td>\n",
       "      <td>-0.674677</td>\n",
       "      <td>Masters</td>\n",
       "      <td>1.529031</td>\n",
       "      <td>Separated</td>\n",
       "      <td>Sales</td>\n",
       "      <td>Unmarried</td>\n",
       "      <td>White</td>\n",
       "      <td>Female</td>\n",
       "      <td>-0.145524</td>\n",
       "      <td>-0.216668</td>\n",
       "      <td>-0.355088</td>\n",
       "      <td>United-States</td>\n",
       "    </tr>\n",
       "    <tr>\n",
       "      <th>18798</th>\n",
       "      <td>21</td>\n",
       "      <td>Private</td>\n",
       "      <td>0.149605</td>\n",
       "      <td>HS-grad</td>\n",
       "      <td>-0.420108</td>\n",
       "      <td>Never-married</td>\n",
       "      <td>Other-service</td>\n",
       "      <td>Own-child</td>\n",
       "      <td>White</td>\n",
       "      <td>Male</td>\n",
       "      <td>-0.145524</td>\n",
       "      <td>-0.216668</td>\n",
       "      <td>-0.274401</td>\n",
       "      <td>United-States</td>\n",
       "    </tr>\n",
       "    <tr>\n",
       "      <th>29519</th>\n",
       "      <td>38</td>\n",
       "      <td>Private</td>\n",
       "      <td>0.040607</td>\n",
       "      <td>Some-college</td>\n",
       "      <td>-0.030280</td>\n",
       "      <td>Divorced</td>\n",
       "      <td>Transport-moving</td>\n",
       "      <td>Not-in-family</td>\n",
       "      <td>Black</td>\n",
       "      <td>Male</td>\n",
       "      <td>-0.145524</td>\n",
       "      <td>-0.216668</td>\n",
       "      <td>1.177972</td>\n",
       "      <td>United-States</td>\n",
       "    </tr>\n",
       "    <tr>\n",
       "      <th>550</th>\n",
       "      <td>46</td>\n",
       "      <td>Self-emp-not-inc</td>\n",
       "      <td>0.526535</td>\n",
       "      <td>Some-college</td>\n",
       "      <td>-0.030280</td>\n",
       "      <td>Divorced</td>\n",
       "      <td>Exec-managerial</td>\n",
       "      <td>Not-in-family</td>\n",
       "      <td>White</td>\n",
       "      <td>Male</td>\n",
       "      <td>-0.145524</td>\n",
       "      <td>-0.216668</td>\n",
       "      <td>0.774535</td>\n",
       "      <td>United-States</td>\n",
       "    </tr>\n",
       "    <tr>\n",
       "      <th>14337</th>\n",
       "      <td>43</td>\n",
       "      <td>Private</td>\n",
       "      <td>-0.068514</td>\n",
       "      <td>HS-grad</td>\n",
       "      <td>-0.420108</td>\n",
       "      <td>Married-civ-spouse</td>\n",
       "      <td>Craft-repair</td>\n",
       "      <td>Husband</td>\n",
       "      <td>White</td>\n",
       "      <td>Male</td>\n",
       "      <td>-0.145524</td>\n",
       "      <td>-0.216668</td>\n",
       "      <td>-0.032339</td>\n",
       "      <td>United-States</td>\n",
       "    </tr>\n",
       "  </tbody>\n",
       "</table>\n",
       "<p>9769 rows × 14 columns</p>\n",
       "</div>"
      ],
      "text/plain": [
       "       age         workclass    fnlwgt     education  education-num  \\\n",
       "7762    18           Private  2.202051       HS-grad      -0.420108   \n",
       "23881   17           Private -0.104463          12th      -0.809935   \n",
       "30507   25         Local-gov  1.502379       HS-grad      -0.420108   \n",
       "28911   20           Private  0.266570  Some-college      -0.030280   \n",
       "19484   47           Private  0.510479       HS-grad      -0.420108   \n",
       "...    ...               ...       ...           ...            ...   \n",
       "43046   56  Self-emp-not-inc -0.674677       Masters       1.529031   \n",
       "18798   21           Private  0.149605       HS-grad      -0.420108   \n",
       "29519   38           Private  0.040607  Some-college      -0.030280   \n",
       "550     46  Self-emp-not-inc  0.526535  Some-college      -0.030280   \n",
       "14337   43           Private -0.068514       HS-grad      -0.420108   \n",
       "\n",
       "           marital-status         occupation    relationship  \\\n",
       "7762        Never-married      Other-service   Not-in-family   \n",
       "23881       Never-married              Sales       Own-child   \n",
       "30507       Never-married  Handlers-cleaners  Other-relative   \n",
       "28911       Never-married              Sales       Own-child   \n",
       "19484       Never-married  Machine-op-inspct       Unmarried   \n",
       "...                   ...                ...             ...   \n",
       "43046           Separated              Sales       Unmarried   \n",
       "18798       Never-married      Other-service       Own-child   \n",
       "29519            Divorced   Transport-moving   Not-in-family   \n",
       "550              Divorced    Exec-managerial   Not-in-family   \n",
       "14337  Married-civ-spouse       Craft-repair         Husband   \n",
       "\n",
       "                     race     sex  capital-gain  capital-loss  hours-per-week  \\\n",
       "7762                White    Male     -0.145524     -0.216668       -1.646086   \n",
       "23881               White  Female     -0.145524     -0.216668       -1.646086   \n",
       "30507               Black    Male     -0.145524     -0.216668       -0.032339   \n",
       "28911               White  Female     -0.145524     -0.216668       -0.839212   \n",
       "19484  Amer-Indian-Eskimo    Male     -0.145524     -0.216668        1.258660   \n",
       "...                   ...     ...           ...           ...             ...   \n",
       "43046               White  Female     -0.145524     -0.216668       -0.355088   \n",
       "18798               White    Male     -0.145524     -0.216668       -0.274401   \n",
       "29519               Black    Male     -0.145524     -0.216668        1.177972   \n",
       "550                 White    Male     -0.145524     -0.216668        0.774535   \n",
       "14337               White    Male     -0.145524     -0.216668       -0.032339   \n",
       "\n",
       "      native-country  \n",
       "7762   United-States  \n",
       "23881  United-States  \n",
       "30507  United-States  \n",
       "28911  United-States  \n",
       "19484    Puerto-Rico  \n",
       "...              ...  \n",
       "43046  United-States  \n",
       "18798  United-States  \n",
       "29519  United-States  \n",
       "550    United-States  \n",
       "14337  United-States  \n",
       "\n",
       "[9769 rows x 14 columns]"
      ]
     },
     "execution_count": 14,
     "metadata": {},
     "output_type": "execute_result"
    }
   ],
   "source": [
    "X_test[numerical] = scaler.transform(X_test[numerical])\n",
    "X_test.describe()"
   ]
  },
  {
   "cell_type": "markdown",
   "metadata": {},
   "source": [
    "## Ensure Reproducibility "
   ]
  },
  {
   "cell_type": "code",
   "execution_count": 15,
   "metadata": {},
   "outputs": [],
   "source": [
    "torch.manual_seed(seed);"
   ]
  },
  {
   "cell_type": "markdown",
   "metadata": {},
   "source": [
    "## Make Dataloader"
   ]
  },
  {
   "cell_type": "code",
   "execution_count": 72,
   "metadata": {},
   "outputs": [],
   "source": [
    "def create_dataloader(x, y, batch_size : int = 32) -> tuple[DataLoader, list]:\n",
    "    num_unique_code = []\n",
    "    for col in categorial:\n",
    "        x[col] = pd.Categorical(x[col]).codes\n",
    "        num_unique_code.append(x[col].nunique())  \n",
    "\n",
    "    x_tens = torch.tensor(x[categorial + numerical].values, dtype=torch.float32)\n",
    "    y_tens = torch.tensor(y.values, dtype=torch.long).squeeze()\n",
    "    \n",
    "    dataset = TensorDataset(x_tens, y_tens)\n",
    "    return DataLoader(dataset, batch_size=batch_size, shuffle=True), num_unique_code"
   ]
  },
  {
   "cell_type": "code",
   "execution_count": 69,
   "metadata": {},
   "outputs": [],
   "source": [
    "tes, tes_list = create_dataloader(X_train, y_train)"
   ]
  },
  {
   "cell_type": "markdown",
   "metadata": {},
   "source": [
    "## Set Up And Train Model"
   ]
  },
  {
   "cell_type": "code",
   "execution_count": null,
   "metadata": {},
   "outputs": [],
   "source": [
    "#Get the best performance\n",
    "torch.set_num_threads(10)\n",
    "if torch.cuda.is_available():\n",
    "    torch.set_default_device('cuda')"
   ]
  },
  {
   "cell_type": "markdown",
   "metadata": {},
   "source": [
    "### AdaptHD"
   ]
  },
  {
   "cell_type": "code",
   "execution_count": null,
   "metadata": {},
   "outputs": [
    {
     "name": "stderr",
     "output_type": "stream",
     "text": [
      "fit: 100%|██████████| 120/120 [26:18<00:00, 13.15s/it]\n"
     ]
    },
    {
     "data": {
      "text/plain": [
       "AdaptHD(\n",
       "  (keys): Random(14, 10000)\n",
       "  (levels): Level(100, 10000)\n",
       "  (model): Centroid(in_features=10000, out_features=3)\n",
       ")"
      ]
     },
     "execution_count": 20,
     "metadata": {},
     "output_type": "execute_result"
    }
   ],
   "source": [
    "data_loader, _ = create_dataloader(X_train, y_train)\n",
    "model = torchhd.classifiers.AdaptHD(n_features=X.shape[1], n_dimensions=10000, n_classes=2)\n",
    "model.fit(data_loader)"
   ]
  },
  {
   "cell_type": "code",
   "execution_count": null,
   "metadata": {},
   "outputs": [
    {
     "data": {
      "text/plain": [
       "0.8420513870406388"
      ]
     },
     "execution_count": 21,
     "metadata": {},
     "output_type": "execute_result"
    }
   ],
   "source": [
    "data_loader, _ = create_dataloader(X_test, y_test)\n",
    "model.accuracy(data_loader)"
   ]
  },
  {
   "cell_type": "markdown",
   "metadata": {},
   "source": [
    "### OnlineHD"
   ]
  },
  {
   "cell_type": "code",
   "execution_count": null,
   "metadata": {},
   "outputs": [],
   "source": [
    "data_loader, _ = create_dataloader(X_train, y_train)\n",
    "model = torchhd.classifiers.OnlineHD(n_features=X.shape[1], n_dimensions=10000, n_classes=2)\n",
    "model.fit(data_loader)"
   ]
  },
  {
   "cell_type": "code",
   "execution_count": null,
   "metadata": {},
   "outputs": [],
   "source": [
    "data_loader, _ = create_dataloader(X_test, y_test)\n",
    "model.accuracy(data_loader)"
   ]
  },
  {
   "cell_type": "markdown",
   "metadata": {},
   "source": [
    "## Create New Model"
   ]
  },
  {
   "cell_type": "code",
   "execution_count": null,
   "metadata": {},
   "outputs": [],
   "source": [
    "class FHRRMixedEncoder(torch.nn.Module):\n",
    "    \"\"\"Will do an FHRR encoding that takes treats both the numerical and categorical data correctly\"\"\"\n",
    "    def __init__(self, n_numerical_features : int, \n",
    "                 n_dimensions : int, \n",
    "                 n_categorical_bin_list : list[int], \n",
    "                 device : torch.device = None, \n",
    "                 distribution : str = 'sinc'):\n",
    "        super().__init__()\n",
    "        self._numerical_encoding = torchhd.embeddings.FractionalPower(n_numerical_features, n_dimensions, distribution, device=device)\n",
    "        self._list_categorical_encoding = [torchhd.embeddings.Random(i, n_dimensions, 'FHRR') for i in n_categorical_bin_list]\n",
    "        self._hyperdim = n_dimensions\n",
    "        self._num_cat_features = len(self._list_categorical_encoding)\n",
    "    \n",
    "    def forward(self, samples : torch.Tensor) -> torch.Tensor:\n",
    "        \"\"\"Will encode the given data into a hypervector. The categorical features is expected to take up the first n features\n",
    "\n",
    "        Args:\n",
    "            samples (torch.Tensor): A (batch, num_features) matrix of samples to encode\n",
    "\n",
    "        Returns:\n",
    "            torch.Tensor: A (batch, hyperdim) matrix of encoded samples\n",
    "        \"\"\"\n",
    "        reshape_at_end = False\n",
    "        if len(samples.shape) == 1:\n",
    "            samples = samples.view(1, -1)\n",
    "            reshape_at_end = True\n",
    "        elif len(samples.shape) > 2:\n",
    "            raise ValueError(f'Input has shape of: {samples.shape} which is not supported')\n",
    "        \n",
    "        b, _ = samples.shape\n",
    "        \n",
    "        hvec = torch.ones((b, self._hyperdim), dtype=torch.cfloat)\n",
    "        \n",
    "        #Iterate over the columns of samples or in other words each feature\n",
    "        for cat_feature, cat_encoder in zip(samples.T[:self._num_cat_features], self._list_categorical_encoding): \n",
    "            hvec *= cat_encoder(cat_feature.long())\n",
    "            \n",
    "        hvec *= self._numerical_encoding(samples[:, self._num_cat_features:])\n",
    "\n",
    "        if reshape_at_end:\n",
    "            hvec = hvec.squeeze()\n",
    "\n",
    "        return hvec\n",
    "class FHRRAdaptModel(torchhd.classifiers.AdaptHD):\n",
    "    def __init__(self, n_numerical_features : int,\n",
    "                 n_categorical_bin_list : list[int], \n",
    "                 n_dimensions : int, \n",
    "                 n_classes : int, *, \n",
    "                 n_levels : int= 100, \n",
    "                 min_level : int= -1, \n",
    "                 max_level : int= 1, \n",
    "                 epochs : int= 120, \n",
    "                 lr : float= 0.035,\n",
    "                 device : torch.device= None, \n",
    "                 dtype : torch.dtype= None):\n",
    "        super().__init__(n_numerical_features, n_dimensions, n_classes, n_levels=n_levels, min_level=min_level, max_level=max_level, epochs=epochs, lr=lr, device=device, dtype=dtype)\n",
    "        \n",
    "        self.encoder = FHRRMixedEncoder(n_numerical_features, n_dimensions, n_categorical_bin_list, device)     \n",
    "        \n",
    "class FHRROnlineModel(torchhd.classifiers.OnlineHD):\n",
    "    def __init__(self, n_numerical_features : int, \n",
    "                 n_categorical_bin_list : list[int],\n",
    "                 n_dimensions : int, \n",
    "                 n_classes : int, *, \n",
    "                 epochs : int = 120, \n",
    "                 lr :float = 0.035, \n",
    "                 device : torch.device = None,\n",
    "                 dtype : torch.dtype= None):\n",
    "        \n",
    "        super().__init__(n_numerical_features, n_dimensions, n_classes, epochs=epochs, lr=lr, device=device, dtype=dtype)\n",
    "        \n",
    "        self.encoder = FHRRMixedEncoder(n_numerical_features, n_dimensions, n_categorical_bin_list, device)\n",
    "        self.model.to(dtype=torch.cfloat)        "
   ]
  },
  {
   "cell_type": "markdown",
   "metadata": {},
   "source": [
    "## Train New Model"
   ]
  },
  {
   "cell_type": "markdown",
   "metadata": {},
   "source": [
    "### AdaptHD with FHRR"
   ]
  },
  {
   "cell_type": "code",
   "execution_count": null,
   "metadata": {},
   "outputs": [],
   "source": [
    "data_loader, cat_bin_count = create_dataloader(X_train, y_train)\n",
    "n_numerical_features = X.shape[1] - len(cat_bin_count)\n",
    "model = FHRRAdaptModel(n_numerical_features=n_numerical_features,\n",
    "                        n_categorical_bin_list=cat_bin_count,\n",
    "                        n_dimensions=10000,\n",
    "                        n_classes=2)\n",
    "model.fit(data_loader)"
   ]
  },
  {
   "cell_type": "code",
   "execution_count": null,
   "metadata": {},
   "outputs": [],
   "source": [
    "data_loader, _ = create_dataloader(X_test, y_test)\n",
    "model.accuracy(data_loader)"
   ]
  },
  {
   "cell_type": "markdown",
   "metadata": {},
   "source": [
    "### OnlineHD with FHRR"
   ]
  },
  {
   "cell_type": "code",
   "execution_count": null,
   "metadata": {},
   "outputs": [
    {
     "name": "stderr",
     "output_type": "stream",
     "text": [
      "/Users/ianbryant/class_work/CS178/.venv/lib/python3.10/site-packages/torch/nn/modules/module.py:1140: UserWarning: Complex modules are a new feature under active development whose design may change, and some modules might not work as expected when using complex tensors as parameters or buffers. Please file an issue at https://github.com/pytorch/pytorch/issues/new?template=bug-report.yml if a complex module does not work as expected.\n",
      "  warnings.warn(\n",
      "fit:   0%|          | 0/120 [00:00<?, ?it/s]/Users/ianbryant/class_work/CS178/.venv/lib/python3.10/site-packages/torchhd/tensors/fhrr.py:424: UserWarning: The norm of a vector is nearly zero, this could indicate a bug.\n",
      "  warnings.warn(\n",
      "fit:  48%|████▊     | 57/120 [12:16<15:17, 14.56s/it]"
     ]
    }
   ],
   "source": [
    "data_loader, cat_bin_count = create_dataloader(X_train, y_train)\n",
    "n_numerical_features = X.shape[1] - len(cat_bin_count)\n",
    "model = FHRROnlineModel(n_numerical_features=n_numerical_features,\n",
    "                        n_categorical_bin_list=cat_bin_count,\n",
    "                        n_dimensions=10000,\n",
    "                        n_classes=2)\n",
    "model.fit(data_loader)"
   ]
  },
  {
   "cell_type": "code",
   "execution_count": null,
   "metadata": {},
   "outputs": [],
   "source": [
    "data_loader, _ = create_dataloader(X_test, y_test)\n",
    "model.accuracy(data_loader)"
   ]
  }
 ],
 "metadata": {
  "kernelspec": {
   "display_name": ".venv",
   "language": "python",
   "name": "python3"
  },
  "language_info": {
   "codemirror_mode": {
    "name": "ipython",
    "version": 3
   },
   "file_extension": ".py",
   "mimetype": "text/x-python",
   "name": "python",
   "nbconvert_exporter": "python",
   "pygments_lexer": "ipython3",
   "version": "3.10.11"
  }
 },
 "nbformat": 4,
 "nbformat_minor": 2
}
